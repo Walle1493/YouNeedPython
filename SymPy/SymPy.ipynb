{
 "metadata": {
  "language_info": {
   "codemirror_mode": {
    "name": "ipython",
    "version": 3
   },
   "file_extension": ".py",
   "mimetype": "text/x-python",
   "name": "python",
   "nbconvert_exporter": "python",
   "pygments_lexer": "ipython3",
   "version": "3.8.0"
  },
  "orig_nbformat": 4,
  "kernelspec": {
   "name": "python3",
   "display_name": "Python 3.8.0 64-bit"
  },
  "interpreter": {
   "hash": "004de6046f1b3d314f33fdb43a2dc798b2646e5600efd8df5066c8b63a00ff6d"
  }
 },
 "nbformat": 4,
 "nbformat_minor": 2,
 "cells": [
  {
   "source": [
    "## Rational"
   ],
   "cell_type": "markdown",
   "metadata": {}
  },
  {
   "source": [
    "Rational可以处理有理数的规范问题"
   ],
   "cell_type": "markdown",
   "metadata": {}
  },
  {
   "cell_type": "code",
   "execution_count": 7,
   "metadata": {},
   "outputs": [
    {
     "output_type": "stream",
     "name": "stdout",
     "text": [
      "1/10\n0.1\n"
     ]
    }
   ],
   "source": [
    "import sympy as sp\n",
    "from sympy import Rational\n",
    "x = Rational(1,10)\n",
    "y = 1/10\n",
    "print(x)\n",
    "print(y)"
   ]
  },
  {
   "cell_type": "code",
   "execution_count": 12,
   "metadata": {},
   "outputs": [
    {
     "output_type": "stream",
     "name": "stdout",
     "text": [
      "9/10\n0.900000000000000\n0.9000000000000001\n"
     ]
    }
   ],
   "source": [
    "x_ = (x + x + x) * 3\n",
    "y_ = (y + y + y) * 3\n",
    "print(x_)\n",
    "print(x_.evalf())\n",
    "print(y_)"
   ]
  },
  {
   "source": [
    "## pprint"
   ],
   "cell_type": "markdown",
   "metadata": {}
  },
  {
   "source": [
    "pprint可以使输出更加美观、可读"
   ],
   "cell_type": "markdown",
   "metadata": {}
  },
  {
   "cell_type": "code",
   "execution_count": 29,
   "metadata": {},
   "outputs": [
    {
     "output_type": "stream",
     "name": "stdout",
     "text": [
      "   x    \n2⋅ℯ  + 1\n2*exp(x) + 1\n√3\nsqrt(3)\n1.7320508075688772\n"
     ]
    }
   ],
   "source": [
    "from sympy import pprint, Symbol, exp, sqrt\n",
    "x = Symbol('x')\n",
    "pprint(exp(x) * 2 + 1)\n",
    "print(exp(x) * 2 + 1)\n",
    "pprint(sqrt(3))\n",
    "print(sqrt(3))\n",
    "print(3 ** 0.5)"
   ]
  },
  {
   "source": [
    "## sqrt"
   ],
   "cell_type": "markdown",
   "metadata": {}
  },
  {
   "source": [
    "sqrt平方根函数"
   ],
   "cell_type": "markdown",
   "metadata": {}
  },
  {
   "cell_type": "code",
   "execution_count": 36,
   "metadata": {},
   "outputs": [
    {
     "output_type": "stream",
     "name": "stdout",
     "text": [
      "2\n2\n√2⋅√2\n2\n2\n"
     ]
    }
   ],
   "source": [
    "from sympy import sqrt, Mul\n",
    "x = sqrt(2)\n",
    "y = sqrt(2)\n",
    "pprint(x * y)\n",
    "pprint(Mul(x, y))\n",
    "pprint(Mul(x, y, evaluate=False))\n",
    "print(x * y)\n",
    "print(Mul(x, y))"
   ]
  },
  {
   "source": [
    "## Symbol, symbols"
   ],
   "cell_type": "markdown",
   "metadata": {}
  },
  {
   "source": [
    "Symbol可以构造一个没有具体数值的符号，symbols可以一次性构造多个，用' '或','隔开"
   ],
   "cell_type": "markdown",
   "metadata": {}
  },
  {
   "cell_type": "code",
   "execution_count": 47,
   "metadata": {},
   "outputs": [
    {
     "output_type": "stream",
     "name": "stdout",
     "text": [
      "b\n2⋅a⋅b + a⋅c + 3⋅a + 4⋅b⋅c + 3⋅c\n"
     ]
    }
   ],
   "source": [
    "from sympy import Symbol, symbols\n",
    "x = Symbol('x')\n",
    "a, b, c = symbols('a,b,c')\n",
    "pprint(b)\n",
    "expression = a * b + a * c + b * a + 4 * b * c + 3 * (a + c)\n",
    "pprint(expression)"
   ]
  },
  {
   "source": [
    "## expand"
   ],
   "cell_type": "markdown",
   "metadata": {}
  },
  {
   "source": [
    "将表达式进行扩展"
   ],
   "cell_type": "markdown",
   "metadata": {}
  },
  {
   "cell_type": "code",
   "execution_count": 49,
   "metadata": {},
   "outputs": [
    {
     "output_type": "stream",
     "name": "stdout",
     "text": [
      "       2\n(x + 1) \n 2          \nx  + 2⋅x + 1\n"
     ]
    }
   ],
   "source": [
    "from sympy import expand\n",
    "x = Symbol('x')\n",
    "expression = (x + 1) ** 2\n",
    "pprint(expression)\n",
    "pprint(expand(expression))"
   ]
  },
  {
   "source": [
    "## simplify"
   ],
   "cell_type": "markdown",
   "metadata": {}
  },
  {
   "source": [
    "将表达式进行简化"
   ],
   "cell_type": "markdown",
   "metadata": {}
  },
  {
   "cell_type": "code",
   "execution_count": 65,
   "metadata": {},
   "outputs": [
    {
     "output_type": "stream",
     "name": "stdout",
     "text": [
      "sin(x)\n──────\ncos(x)\ntan(x)\n     2         2   \n- sin (x) + cos (x)\ncos(2⋅x)\n"
     ]
    }
   ],
   "source": [
    "from sympy import simplify, sin, cos, tan\n",
    "x = Symbol('x')\n",
    "pprint(sin(x)/cos(x))\n",
    "pprint(simplify(sin(x)/cos(x)))\n",
    "pprint(cos(x)**2 - sin(x)**2)\n",
    "pprint(simplify(cos(x)**2 - sin(x)**2))"
   ]
  },
  {
   "source": [
    "## equals"
   ],
   "cell_type": "markdown",
   "metadata": {}
  },
  {
   "source": [
    "先对两个表达式进行简化，再判断两者是否相等"
   ],
   "cell_type": "markdown",
   "metadata": {}
  },
  {
   "cell_type": "code",
   "execution_count": 70,
   "metadata": {},
   "outputs": [
    {
     "output_type": "stream",
     "name": "stdout",
     "text": [
      "False\nTrue\nFalse\nTrue\n"
     ]
    }
   ],
   "source": [
    "x = Symbol('x')\n",
    "a = sin(x) / cos(x)\n",
    "b = tan(x)\n",
    "print(a == b)\n",
    "print(a.equals(b))\n",
    "u = cos(x) ** 2 - sin(x) ** 2\n",
    "v = cos(2 * x)\n",
    "print(u == v)\n",
    "print(u.equals(v))"
   ]
  },
  {
   "source": [
    "## evalf/subs"
   ],
   "cell_type": "markdown",
   "metadata": {}
  },
  {
   "source": [
    "输出符号所代表的具体数值，或用具体数值替换表达式中的符号"
   ],
   "cell_type": "markdown",
   "metadata": {}
  },
  {
   "cell_type": "code",
   "execution_count": 80,
   "metadata": {},
   "outputs": [
    {
     "output_type": "stream",
     "name": "stdout",
     "text": [
      "pi\nπ\n3.14159265358979\n3.14159265358979\n 2              \nx  - 2⋅x⋅y - 3⋅y\n-9\n-9\n"
     ]
    }
   ],
   "source": [
    "from sympy import pi\n",
    "print(pi)\n",
    "pprint(pi)\n",
    "pprint(pi.evalf())\n",
    "print(pi.evalf())\n",
    "x, y = symbols('x,y')\n",
    "expression = x**2 - 2*x*y - 3*y\n",
    "pprint(expression)\n",
    "pprint(expression.subs([(x,1), (y,2)]))\n",
    "print(1**2 - 2*1*2 - 3*2)"
   ]
  },
  {
   "source": [
    "## solve/solveset"
   ],
   "cell_type": "markdown",
   "metadata": {}
  },
  {
   "source": [
    "解方程，求得方程在特定区间的值"
   ],
   "cell_type": "markdown",
   "metadata": {}
  },
  {
   "cell_type": "code",
   "execution_count": 91,
   "metadata": {},
   "outputs": [
    {
     "output_type": "stream",
     "name": "stdout",
     "text": [
      "[-1, 3]\n"
     ]
    }
   ],
   "source": [
    "from sympy import solve, Eq, Interval\n",
    "from sympy.solvers import solveset\n",
    "x = Symbol('x')\n",
    "expression = x**2 - 2*x - 3\n",
    "result = solve(expression, x)\n",
    "print(result)"
   ]
  },
  {
   "cell_type": "code",
   "execution_count": 92,
   "metadata": {},
   "outputs": [
    {
     "output_type": "stream",
     "name": "stdout",
     "text": [
      "[-1, 3]\n"
     ]
    }
   ],
   "source": [
    "x = Symbol('x')\n",
    "expression = Eq(x**2 - 2*x, 3)\n",
    "result = solve(expression, x)\n",
    "print(result)"
   ]
  },
  {
   "cell_type": "code",
   "execution_count": 96,
   "metadata": {},
   "outputs": [
    {
     "output_type": "stream",
     "name": "stdout",
     "text": [
      "FiniteSet(3)\n{-1}\n"
     ]
    }
   ],
   "source": [
    "x = Symbol('x')\n",
    "expression = Eq(x**2 - 2*x, 3)\n",
    "result = solveset(expression, x, Interval(0, 100))\n",
    "print(result)\n",
    "result = solveset(expression, x, Interval(-100, 0))\n",
    "pprint(result)"
   ]
  },
  {
   "source": [
    "## sequence"
   ],
   "cell_type": "markdown",
   "metadata": {}
  },
  {
   "cell_type": "code",
   "execution_count": 115,
   "metadata": {},
   "outputs": [
    {
     "output_type": "stream",
     "name": "stdout",
     "text": [
      "SeqFormula(x**2, (x, 0, 5))\n[0, 1, 4, 9, …]\n[0, 1, 4, 9, 16, 25]\n"
     ]
    }
   ],
   "source": [
    "from sympy import sequence, summation\n",
    "from sympy.abc import x, y\n",
    "z = sequence(x**2, (x, 0, 5))\n",
    "print(z)\n",
    "pprint(z)\n",
    "pprint(list(z))"
   ]
  },
  {
   "cell_type": "code",
   "execution_count": 131,
   "metadata": {},
   "outputs": [
    {
     "output_type": "stream",
     "name": "stdout",
     "text": [
      "6\n0\n5\n 2\nx \n15\n55\n"
     ]
    }
   ],
   "source": [
    "pprint(z.length)\n",
    "pprint(z.start)\n",
    "pprint(z.stop)\n",
    "pprint(z.formula)\n",
    "pprint(summation(x, (x, z.start, z.stop)))\n",
    "pprint(summation(z.formula, (x, z.start, z.stop)))"
   ]
  },
  {
   "source": [
    "## limit"
   ],
   "cell_type": "markdown",
   "metadata": {}
  },
  {
   "cell_type": "code",
   "execution_count": 149,
   "metadata": {},
   "outputs": [
    {
     "output_type": "stream",
     "name": "stdout",
     "text": [
      "0\n∞\n"
     ]
    }
   ],
   "source": [
    "from sympy import limit, oo\n",
    "from sympy.abc import x, y\n",
    "z1 = limit(1/x, x, oo)\n",
    "z2 = limit(1/sqrt(x), x, 0)\n",
    "pprint(z1)\n",
    "pprint(z2)"
   ]
  },
  {
   "source": [
    "## Matrix"
   ],
   "cell_type": "markdown",
   "metadata": {}
  },
  {
   "cell_type": "code",
   "execution_count": 153,
   "metadata": {},
   "outputs": [
    {
     "output_type": "stream",
     "name": "stdout",
     "text": [
      "Matrix([[1, 2], [3, 4], [5, 6]])\n\n⎡1  2⎤\n⎢    ⎥\n⎢3  4⎥\n⎢    ⎥\n⎣5  6⎦\n"
     ]
    }
   ],
   "source": [
    "from sympy import Matrix\n",
    "from sympy.abc import x, y\n",
    "A = Matrix([[1,2], [3,4], [5,6]])\n",
    "print(A)\n",
    "print()\n",
    "pprint(A)"
   ]
  },
  {
   "cell_type": "code",
   "execution_count": 156,
   "metadata": {},
   "outputs": [
    {
     "output_type": "stream",
     "name": "stdout",
     "text": [
      "(3, 2)\n(2, 1)\n"
     ]
    }
   ],
   "source": [
    "B = Matrix([2, 2])\n",
    "print(A.shape)\n",
    "print(B.shape)"
   ]
  },
  {
   "cell_type": "code",
   "execution_count": 160,
   "metadata": {},
   "outputs": [
    {
     "output_type": "stream",
     "name": "stdout",
     "text": [
      "Matrix([[6], [14], [22]])\n\n⎡6 ⎤\n⎢  ⎥\n⎢14⎥\n⎢  ⎥\n⎣22⎦\n"
     ]
    }
   ],
   "source": [
    "C = A * B\n",
    "print(C)\n",
    "print()\n",
    "pprint(C)"
   ]
  },
  {
   "source": [
    "## plot"
   ],
   "cell_type": "markdown",
   "metadata": {}
  },
  {
   "cell_type": "code",
   "execution_count": 202,
   "metadata": {},
   "outputs": [
    {
     "output_type": "display_data",
     "data": {
      "text/plain": "<Figure size 432x288 with 1 Axes>",
      "image/svg+xml": "<?xml version=\"1.0\" encoding=\"utf-8\" standalone=\"no\"?>\r\n<!DOCTYPE svg PUBLIC \"-//W3C//DTD SVG 1.1//EN\"\r\n  \"http://www.w3.org/Graphics/SVG/1.1/DTD/svg11.dtd\">\r\n<!-- Created with matplotlib (https://matplotlib.org/) -->\r\n<svg height=\"279.918125pt\" version=\"1.1\" viewBox=\"0 0 439.320526 279.918125\" width=\"439.320526pt\" xmlns=\"http://www.w3.org/2000/svg\" xmlns:xlink=\"http://www.w3.org/1999/xlink\">\r\n <metadata>\r\n  <rdf:RDF xmlns:cc=\"http://creativecommons.org/ns#\" xmlns:dc=\"http://purl.org/dc/elements/1.1/\" xmlns:rdf=\"http://www.w3.org/1999/02/22-rdf-syntax-ns#\">\r\n   <cc:Work>\r\n    <dc:type rdf:resource=\"http://purl.org/dc/dcmitype/StillImage\"/>\r\n    <dc:date>2021-06-16T18:19:10.404810</dc:date>\r\n    <dc:format>image/svg+xml</dc:format>\r\n    <dc:creator>\r\n     <cc:Agent>\r\n      <dc:title>Matplotlib v3.3.4, https://matplotlib.org/</dc:title>\r\n     </cc:Agent>\r\n    </dc:creator>\r\n   </cc:Work>\r\n  </rdf:RDF>\r\n </metadata>\r\n <defs>\r\n  <style type=\"text/css\">*{stroke-linecap:butt;stroke-linejoin:round;}</style>\r\n </defs>\r\n <g id=\"figure_1\">\r\n  <g id=\"patch_1\">\r\n   <path d=\"M 0 279.918125 \r\nL 439.320526 279.918125 \r\nL 439.320526 0 \r\nL 0 0 \r\nz\r\n\" style=\"fill:none;\"/>\r\n  </g>\r\n  <g id=\"axes_1\">\r\n   <g id=\"patch_2\">\r\n    <path d=\"M 7.2 272.718125 \r\nL 417.068182 272.718125 \r\nL 417.068182 22.318125 \r\nL 7.2 22.318125 \r\nz\r\n\" style=\"fill:#ffffff;\"/>\r\n   </g>\r\n   <g id=\"matplotlib.axis_1\">\r\n    <g id=\"xtick_1\">\r\n     <g id=\"line2d_1\">\r\n      <defs>\r\n       <path d=\"M 0 0 \r\nL 0 3.5 \r\n\" id=\"m114a22137b\" style=\"stroke:#000000;stroke-width:0.8;\"/>\r\n      </defs>\r\n      <g>\r\n       <use style=\"stroke:#000000;stroke-width:0.8;\" x=\"25.830372\" xlink:href=\"#m114a22137b\" y=\"147.511873\"/>\r\n      </g>\r\n     </g>\r\n     <g id=\"text_1\">\r\n      <!-- −10.0 -->\r\n      <g transform=\"translate(10.507716 162.11031)scale(0.1 -0.1)\">\r\n       <defs>\r\n        <path d=\"M 10.59375 35.5 \r\nL 73.1875 35.5 \r\nL 73.1875 27.203125 \r\nL 10.59375 27.203125 \r\nz\r\n\" id=\"DejaVuSans-8722\"/>\r\n        <path d=\"M 12.40625 8.296875 \r\nL 28.515625 8.296875 \r\nL 28.515625 63.921875 \r\nL 10.984375 60.40625 \r\nL 10.984375 69.390625 \r\nL 28.421875 72.90625 \r\nL 38.28125 72.90625 \r\nL 38.28125 8.296875 \r\nL 54.390625 8.296875 \r\nL 54.390625 0 \r\nL 12.40625 0 \r\nz\r\n\" id=\"DejaVuSans-49\"/>\r\n        <path d=\"M 31.78125 66.40625 \r\nQ 24.171875 66.40625 20.328125 58.90625 \r\nQ 16.5 51.421875 16.5 36.375 \r\nQ 16.5 21.390625 20.328125 13.890625 \r\nQ 24.171875 6.390625 31.78125 6.390625 \r\nQ 39.453125 6.390625 43.28125 13.890625 \r\nQ 47.125 21.390625 47.125 36.375 \r\nQ 47.125 51.421875 43.28125 58.90625 \r\nQ 39.453125 66.40625 31.78125 66.40625 \r\nz\r\nM 31.78125 74.21875 \r\nQ 44.046875 74.21875 50.515625 64.515625 \r\nQ 56.984375 54.828125 56.984375 36.375 \r\nQ 56.984375 17.96875 50.515625 8.265625 \r\nQ 44.046875 -1.421875 31.78125 -1.421875 \r\nQ 19.53125 -1.421875 13.0625 8.265625 \r\nQ 6.59375 17.96875 6.59375 36.375 \r\nQ 6.59375 54.828125 13.0625 64.515625 \r\nQ 19.53125 74.21875 31.78125 74.21875 \r\nz\r\n\" id=\"DejaVuSans-48\"/>\r\n        <path d=\"M 10.6875 12.40625 \r\nL 21 12.40625 \r\nL 21 0 \r\nL 10.6875 0 \r\nz\r\n\" id=\"DejaVuSans-46\"/>\r\n       </defs>\r\n       <use xlink:href=\"#DejaVuSans-8722\"/>\r\n       <use x=\"83.789062\" xlink:href=\"#DejaVuSans-49\"/>\r\n       <use x=\"147.412109\" xlink:href=\"#DejaVuSans-48\"/>\r\n       <use x=\"211.035156\" xlink:href=\"#DejaVuSans-46\"/>\r\n       <use x=\"242.822266\" xlink:href=\"#DejaVuSans-48\"/>\r\n      </g>\r\n     </g>\r\n    </g>\r\n    <g id=\"xtick_2\">\r\n     <g id=\"line2d_2\">\r\n      <g>\r\n       <use style=\"stroke:#000000;stroke-width:0.8;\" x=\"72.406302\" xlink:href=\"#m114a22137b\" y=\"147.511873\"/>\r\n      </g>\r\n     </g>\r\n     <g id=\"text_2\">\r\n      <!-- −7.5 -->\r\n      <g transform=\"translate(60.264895 162.11031)scale(0.1 -0.1)\">\r\n       <defs>\r\n        <path d=\"M 8.203125 72.90625 \r\nL 55.078125 72.90625 \r\nL 55.078125 68.703125 \r\nL 28.609375 0 \r\nL 18.3125 0 \r\nL 43.21875 64.59375 \r\nL 8.203125 64.59375 \r\nz\r\n\" id=\"DejaVuSans-55\"/>\r\n        <path d=\"M 10.796875 72.90625 \r\nL 49.515625 72.90625 \r\nL 49.515625 64.59375 \r\nL 19.828125 64.59375 \r\nL 19.828125 46.734375 \r\nQ 21.96875 47.46875 24.109375 47.828125 \r\nQ 26.265625 48.1875 28.421875 48.1875 \r\nQ 40.625 48.1875 47.75 41.5 \r\nQ 54.890625 34.8125 54.890625 23.390625 \r\nQ 54.890625 11.625 47.5625 5.09375 \r\nQ 40.234375 -1.421875 26.90625 -1.421875 \r\nQ 22.3125 -1.421875 17.546875 -0.640625 \r\nQ 12.796875 0.140625 7.71875 1.703125 \r\nL 7.71875 11.625 \r\nQ 12.109375 9.234375 16.796875 8.0625 \r\nQ 21.484375 6.890625 26.703125 6.890625 \r\nQ 35.15625 6.890625 40.078125 11.328125 \r\nQ 45.015625 15.765625 45.015625 23.390625 \r\nQ 45.015625 31 40.078125 35.4375 \r\nQ 35.15625 39.890625 26.703125 39.890625 \r\nQ 22.75 39.890625 18.8125 39.015625 \r\nQ 14.890625 38.140625 10.796875 36.28125 \r\nz\r\n\" id=\"DejaVuSans-53\"/>\r\n       </defs>\r\n       <use xlink:href=\"#DejaVuSans-8722\"/>\r\n       <use x=\"83.789062\" xlink:href=\"#DejaVuSans-55\"/>\r\n       <use x=\"147.412109\" xlink:href=\"#DejaVuSans-46\"/>\r\n       <use x=\"179.199219\" xlink:href=\"#DejaVuSans-53\"/>\r\n      </g>\r\n     </g>\r\n    </g>\r\n    <g id=\"xtick_3\">\r\n     <g id=\"line2d_3\">\r\n      <g>\r\n       <use style=\"stroke:#000000;stroke-width:0.8;\" x=\"118.982231\" xlink:href=\"#m114a22137b\" y=\"147.511873\"/>\r\n      </g>\r\n     </g>\r\n     <g id=\"text_3\">\r\n      <!-- −5.0 -->\r\n      <g transform=\"translate(106.840825 162.11031)scale(0.1 -0.1)\">\r\n       <use xlink:href=\"#DejaVuSans-8722\"/>\r\n       <use x=\"83.789062\" xlink:href=\"#DejaVuSans-53\"/>\r\n       <use x=\"147.412109\" xlink:href=\"#DejaVuSans-46\"/>\r\n       <use x=\"179.199219\" xlink:href=\"#DejaVuSans-48\"/>\r\n      </g>\r\n     </g>\r\n    </g>\r\n    <g id=\"xtick_4\">\r\n     <g id=\"line2d_4\">\r\n      <g>\r\n       <use style=\"stroke:#000000;stroke-width:0.8;\" x=\"165.558161\" xlink:href=\"#m114a22137b\" y=\"147.511873\"/>\r\n      </g>\r\n     </g>\r\n     <g id=\"text_4\">\r\n      <!-- −2.5 -->\r\n      <g transform=\"translate(153.416755 162.11031)scale(0.1 -0.1)\">\r\n       <defs>\r\n        <path d=\"M 19.1875 8.296875 \r\nL 53.609375 8.296875 \r\nL 53.609375 0 \r\nL 7.328125 0 \r\nL 7.328125 8.296875 \r\nQ 12.9375 14.109375 22.625 23.890625 \r\nQ 32.328125 33.6875 34.8125 36.53125 \r\nQ 39.546875 41.84375 41.421875 45.53125 \r\nQ 43.3125 49.21875 43.3125 52.78125 \r\nQ 43.3125 58.59375 39.234375 62.25 \r\nQ 35.15625 65.921875 28.609375 65.921875 \r\nQ 23.96875 65.921875 18.8125 64.3125 \r\nQ 13.671875 62.703125 7.8125 59.421875 \r\nL 7.8125 69.390625 \r\nQ 13.765625 71.78125 18.9375 73 \r\nQ 24.125 74.21875 28.421875 74.21875 \r\nQ 39.75 74.21875 46.484375 68.546875 \r\nQ 53.21875 62.890625 53.21875 53.421875 \r\nQ 53.21875 48.921875 51.53125 44.890625 \r\nQ 49.859375 40.875 45.40625 35.40625 \r\nQ 44.1875 33.984375 37.640625 27.21875 \r\nQ 31.109375 20.453125 19.1875 8.296875 \r\nz\r\n\" id=\"DejaVuSans-50\"/>\r\n       </defs>\r\n       <use xlink:href=\"#DejaVuSans-8722\"/>\r\n       <use x=\"83.789062\" xlink:href=\"#DejaVuSans-50\"/>\r\n       <use x=\"147.412109\" xlink:href=\"#DejaVuSans-46\"/>\r\n       <use x=\"179.199219\" xlink:href=\"#DejaVuSans-53\"/>\r\n      </g>\r\n     </g>\r\n    </g>\r\n    <g id=\"xtick_5\">\r\n     <g id=\"line2d_5\">\r\n      <g>\r\n       <use style=\"stroke:#000000;stroke-width:0.8;\" x=\"212.134091\" xlink:href=\"#m114a22137b\" y=\"147.511873\"/>\r\n      </g>\r\n     </g>\r\n     <g id=\"text_5\">\r\n      <!-- 0.0 -->\r\n      <g transform=\"translate(204.182528 162.11031)scale(0.1 -0.1)\">\r\n       <use xlink:href=\"#DejaVuSans-48\"/>\r\n       <use x=\"63.623047\" xlink:href=\"#DejaVuSans-46\"/>\r\n       <use x=\"95.410156\" xlink:href=\"#DejaVuSans-48\"/>\r\n      </g>\r\n     </g>\r\n    </g>\r\n    <g id=\"xtick_6\">\r\n     <g id=\"line2d_6\">\r\n      <g>\r\n       <use style=\"stroke:#000000;stroke-width:0.8;\" x=\"258.710021\" xlink:href=\"#m114a22137b\" y=\"147.511873\"/>\r\n      </g>\r\n     </g>\r\n     <g id=\"text_6\">\r\n      <!-- 2.5 -->\r\n      <g transform=\"translate(250.758458 162.11031)scale(0.1 -0.1)\">\r\n       <use xlink:href=\"#DejaVuSans-50\"/>\r\n       <use x=\"63.623047\" xlink:href=\"#DejaVuSans-46\"/>\r\n       <use x=\"95.410156\" xlink:href=\"#DejaVuSans-53\"/>\r\n      </g>\r\n     </g>\r\n    </g>\r\n    <g id=\"xtick_7\">\r\n     <g id=\"line2d_7\">\r\n      <g>\r\n       <use style=\"stroke:#000000;stroke-width:0.8;\" x=\"305.28595\" xlink:href=\"#m114a22137b\" y=\"147.511873\"/>\r\n      </g>\r\n     </g>\r\n     <g id=\"text_7\">\r\n      <!-- 5.0 -->\r\n      <g transform=\"translate(297.334388 162.11031)scale(0.1 -0.1)\">\r\n       <use xlink:href=\"#DejaVuSans-53\"/>\r\n       <use x=\"63.623047\" xlink:href=\"#DejaVuSans-46\"/>\r\n       <use x=\"95.410156\" xlink:href=\"#DejaVuSans-48\"/>\r\n      </g>\r\n     </g>\r\n    </g>\r\n    <g id=\"xtick_8\">\r\n     <g id=\"line2d_8\">\r\n      <g>\r\n       <use style=\"stroke:#000000;stroke-width:0.8;\" x=\"351.86188\" xlink:href=\"#m114a22137b\" y=\"147.511873\"/>\r\n      </g>\r\n     </g>\r\n     <g id=\"text_8\">\r\n      <!-- 7.5 -->\r\n      <g transform=\"translate(343.910318 162.11031)scale(0.1 -0.1)\">\r\n       <use xlink:href=\"#DejaVuSans-55\"/>\r\n       <use x=\"63.623047\" xlink:href=\"#DejaVuSans-46\"/>\r\n       <use x=\"95.410156\" xlink:href=\"#DejaVuSans-53\"/>\r\n      </g>\r\n     </g>\r\n    </g>\r\n    <g id=\"xtick_9\">\r\n     <g id=\"line2d_9\">\r\n      <g>\r\n       <use style=\"stroke:#000000;stroke-width:0.8;\" x=\"398.43781\" xlink:href=\"#m114a22137b\" y=\"147.511873\"/>\r\n      </g>\r\n     </g>\r\n     <g id=\"text_9\">\r\n      <!-- 10.0 -->\r\n      <g transform=\"translate(387.304997 162.11031)scale(0.1 -0.1)\">\r\n       <use xlink:href=\"#DejaVuSans-49\"/>\r\n       <use x=\"63.623047\" xlink:href=\"#DejaVuSans-48\"/>\r\n       <use x=\"127.246094\" xlink:href=\"#DejaVuSans-46\"/>\r\n       <use x=\"159.033203\" xlink:href=\"#DejaVuSans-48\"/>\r\n      </g>\r\n     </g>\r\n    </g>\r\n    <g id=\"text_10\">\r\n     <!-- xlabel -->\r\n     <g transform=\"translate(402.015838 175.788435)scale(0.1 -0.1)\">\r\n      <defs>\r\n       <path d=\"M 54.890625 54.6875 \r\nL 35.109375 28.078125 \r\nL 55.90625 0 \r\nL 45.3125 0 \r\nL 29.390625 21.484375 \r\nL 13.484375 0 \r\nL 2.875 0 \r\nL 24.125 28.609375 \r\nL 4.6875 54.6875 \r\nL 15.28125 54.6875 \r\nL 29.78125 35.203125 \r\nL 44.28125 54.6875 \r\nz\r\n\" id=\"DejaVuSans-120\"/>\r\n       <path d=\"M 9.421875 75.984375 \r\nL 18.40625 75.984375 \r\nL 18.40625 0 \r\nL 9.421875 0 \r\nz\r\n\" id=\"DejaVuSans-108\"/>\r\n       <path d=\"M 34.28125 27.484375 \r\nQ 23.390625 27.484375 19.1875 25 \r\nQ 14.984375 22.515625 14.984375 16.5 \r\nQ 14.984375 11.71875 18.140625 8.90625 \r\nQ 21.296875 6.109375 26.703125 6.109375 \r\nQ 34.1875 6.109375 38.703125 11.40625 \r\nQ 43.21875 16.703125 43.21875 25.484375 \r\nL 43.21875 27.484375 \r\nz\r\nM 52.203125 31.203125 \r\nL 52.203125 0 \r\nL 43.21875 0 \r\nL 43.21875 8.296875 \r\nQ 40.140625 3.328125 35.546875 0.953125 \r\nQ 30.953125 -1.421875 24.3125 -1.421875 \r\nQ 15.921875 -1.421875 10.953125 3.296875 \r\nQ 6 8.015625 6 15.921875 \r\nQ 6 25.140625 12.171875 29.828125 \r\nQ 18.359375 34.515625 30.609375 34.515625 \r\nL 43.21875 34.515625 \r\nL 43.21875 35.40625 \r\nQ 43.21875 41.609375 39.140625 45 \r\nQ 35.0625 48.390625 27.6875 48.390625 \r\nQ 23 48.390625 18.546875 47.265625 \r\nQ 14.109375 46.140625 10.015625 43.890625 \r\nL 10.015625 52.203125 \r\nQ 14.9375 54.109375 19.578125 55.046875 \r\nQ 24.21875 56 28.609375 56 \r\nQ 40.484375 56 46.34375 49.84375 \r\nQ 52.203125 43.703125 52.203125 31.203125 \r\nz\r\n\" id=\"DejaVuSans-97\"/>\r\n       <path d=\"M 48.6875 27.296875 \r\nQ 48.6875 37.203125 44.609375 42.84375 \r\nQ 40.53125 48.484375 33.40625 48.484375 \r\nQ 26.265625 48.484375 22.1875 42.84375 \r\nQ 18.109375 37.203125 18.109375 27.296875 \r\nQ 18.109375 17.390625 22.1875 11.75 \r\nQ 26.265625 6.109375 33.40625 6.109375 \r\nQ 40.53125 6.109375 44.609375 11.75 \r\nQ 48.6875 17.390625 48.6875 27.296875 \r\nz\r\nM 18.109375 46.390625 \r\nQ 20.953125 51.265625 25.265625 53.625 \r\nQ 29.59375 56 35.59375 56 \r\nQ 45.5625 56 51.78125 48.09375 \r\nQ 58.015625 40.1875 58.015625 27.296875 \r\nQ 58.015625 14.40625 51.78125 6.484375 \r\nQ 45.5625 -1.421875 35.59375 -1.421875 \r\nQ 29.59375 -1.421875 25.265625 0.953125 \r\nQ 20.953125 3.328125 18.109375 8.203125 \r\nL 18.109375 0 \r\nL 9.078125 0 \r\nL 9.078125 75.984375 \r\nL 18.109375 75.984375 \r\nz\r\n\" id=\"DejaVuSans-98\"/>\r\n       <path d=\"M 56.203125 29.59375 \r\nL 56.203125 25.203125 \r\nL 14.890625 25.203125 \r\nQ 15.484375 15.921875 20.484375 11.0625 \r\nQ 25.484375 6.203125 34.421875 6.203125 \r\nQ 39.59375 6.203125 44.453125 7.46875 \r\nQ 49.3125 8.734375 54.109375 11.28125 \r\nL 54.109375 2.78125 \r\nQ 49.265625 0.734375 44.1875 -0.34375 \r\nQ 39.109375 -1.421875 33.890625 -1.421875 \r\nQ 20.796875 -1.421875 13.15625 6.1875 \r\nQ 5.515625 13.8125 5.515625 26.8125 \r\nQ 5.515625 40.234375 12.765625 48.109375 \r\nQ 20.015625 56 32.328125 56 \r\nQ 43.359375 56 49.78125 48.890625 \r\nQ 56.203125 41.796875 56.203125 29.59375 \r\nz\r\nM 47.21875 32.234375 \r\nQ 47.125 39.59375 43.09375 43.984375 \r\nQ 39.0625 48.390625 32.421875 48.390625 \r\nQ 24.90625 48.390625 20.390625 44.140625 \r\nQ 15.875 39.890625 15.1875 32.171875 \r\nz\r\n\" id=\"DejaVuSans-101\"/>\r\n      </defs>\r\n      <use xlink:href=\"#DejaVuSans-120\"/>\r\n      <use x=\"59.179688\" xlink:href=\"#DejaVuSans-108\"/>\r\n      <use x=\"86.962891\" xlink:href=\"#DejaVuSans-97\"/>\r\n      <use x=\"148.242188\" xlink:href=\"#DejaVuSans-98\"/>\r\n      <use x=\"211.71875\" xlink:href=\"#DejaVuSans-101\"/>\r\n      <use x=\"273.242188\" xlink:href=\"#DejaVuSans-108\"/>\r\n     </g>\r\n    </g>\r\n   </g>\r\n   <g id=\"matplotlib.axis_2\">\r\n    <g id=\"ytick_1\">\r\n     <g id=\"line2d_10\">\r\n      <defs>\r\n       <path d=\"M 0 0 \r\nL -3.5 0 \r\n\" id=\"m4d98947a15\" style=\"stroke:#000000;stroke-width:0.8;\"/>\r\n      </defs>\r\n      <g>\r\n       <use style=\"stroke:#000000;stroke-width:0.8;\" x=\"212.134091\" xlink:href=\"#m4d98947a15\" y=\"261.33716\"/>\r\n      </g>\r\n     </g>\r\n     <g id=\"text_11\">\r\n      <!-- −1.00 -->\r\n      <g transform=\"translate(174.488778 265.136379)scale(0.1 -0.1)\">\r\n       <use xlink:href=\"#DejaVuSans-8722\"/>\r\n       <use x=\"83.789062\" xlink:href=\"#DejaVuSans-49\"/>\r\n       <use x=\"147.412109\" xlink:href=\"#DejaVuSans-46\"/>\r\n       <use x=\"179.199219\" xlink:href=\"#DejaVuSans-48\"/>\r\n       <use x=\"242.822266\" xlink:href=\"#DejaVuSans-48\"/>\r\n      </g>\r\n     </g>\r\n    </g>\r\n    <g id=\"ytick_2\">\r\n     <g id=\"line2d_11\">\r\n      <g>\r\n       <use style=\"stroke:#000000;stroke-width:0.8;\" x=\"212.134091\" xlink:href=\"#m4d98947a15\" y=\"232.880838\"/>\r\n      </g>\r\n     </g>\r\n     <g id=\"text_12\">\r\n      <!-- −0.75 -->\r\n      <g transform=\"translate(174.488778 236.680057)scale(0.1 -0.1)\">\r\n       <use xlink:href=\"#DejaVuSans-8722\"/>\r\n       <use x=\"83.789062\" xlink:href=\"#DejaVuSans-48\"/>\r\n       <use x=\"147.412109\" xlink:href=\"#DejaVuSans-46\"/>\r\n       <use x=\"179.199219\" xlink:href=\"#DejaVuSans-55\"/>\r\n       <use x=\"242.822266\" xlink:href=\"#DejaVuSans-53\"/>\r\n      </g>\r\n     </g>\r\n    </g>\r\n    <g id=\"ytick_3\">\r\n     <g id=\"line2d_12\">\r\n      <g>\r\n       <use style=\"stroke:#000000;stroke-width:0.8;\" x=\"212.134091\" xlink:href=\"#m4d98947a15\" y=\"204.424517\"/>\r\n      </g>\r\n     </g>\r\n     <g id=\"text_13\">\r\n      <!-- −0.50 -->\r\n      <g transform=\"translate(174.488778 208.223735)scale(0.1 -0.1)\">\r\n       <use xlink:href=\"#DejaVuSans-8722\"/>\r\n       <use x=\"83.789062\" xlink:href=\"#DejaVuSans-48\"/>\r\n       <use x=\"147.412109\" xlink:href=\"#DejaVuSans-46\"/>\r\n       <use x=\"179.199219\" xlink:href=\"#DejaVuSans-53\"/>\r\n       <use x=\"242.822266\" xlink:href=\"#DejaVuSans-48\"/>\r\n      </g>\r\n     </g>\r\n    </g>\r\n    <g id=\"ytick_4\">\r\n     <g id=\"line2d_13\">\r\n      <g>\r\n       <use style=\"stroke:#000000;stroke-width:0.8;\" x=\"212.134091\" xlink:href=\"#m4d98947a15\" y=\"175.968195\"/>\r\n      </g>\r\n     </g>\r\n     <g id=\"text_14\">\r\n      <!-- −0.25 -->\r\n      <g transform=\"translate(174.488778 179.767413)scale(0.1 -0.1)\">\r\n       <use xlink:href=\"#DejaVuSans-8722\"/>\r\n       <use x=\"83.789062\" xlink:href=\"#DejaVuSans-48\"/>\r\n       <use x=\"147.412109\" xlink:href=\"#DejaVuSans-46\"/>\r\n       <use x=\"179.199219\" xlink:href=\"#DejaVuSans-50\"/>\r\n       <use x=\"242.822266\" xlink:href=\"#DejaVuSans-53\"/>\r\n      </g>\r\n     </g>\r\n    </g>\r\n    <g id=\"ytick_5\">\r\n     <g id=\"line2d_14\">\r\n      <g>\r\n       <use style=\"stroke:#000000;stroke-width:0.8;\" x=\"212.134091\" xlink:href=\"#m4d98947a15\" y=\"147.511873\"/>\r\n      </g>\r\n     </g>\r\n     <g id=\"text_15\">\r\n      <!-- 0.00 -->\r\n      <g transform=\"translate(182.868466 151.311092)scale(0.1 -0.1)\">\r\n       <use xlink:href=\"#DejaVuSans-48\"/>\r\n       <use x=\"63.623047\" xlink:href=\"#DejaVuSans-46\"/>\r\n       <use x=\"95.410156\" xlink:href=\"#DejaVuSans-48\"/>\r\n       <use x=\"159.033203\" xlink:href=\"#DejaVuSans-48\"/>\r\n      </g>\r\n     </g>\r\n    </g>\r\n    <g id=\"ytick_6\">\r\n     <g id=\"line2d_15\">\r\n      <g>\r\n       <use style=\"stroke:#000000;stroke-width:0.8;\" x=\"212.134091\" xlink:href=\"#m4d98947a15\" y=\"119.055551\"/>\r\n      </g>\r\n     </g>\r\n     <g id=\"text_16\">\r\n      <!-- 0.25 -->\r\n      <g transform=\"translate(182.868466 122.85477)scale(0.1 -0.1)\">\r\n       <use xlink:href=\"#DejaVuSans-48\"/>\r\n       <use x=\"63.623047\" xlink:href=\"#DejaVuSans-46\"/>\r\n       <use x=\"95.410156\" xlink:href=\"#DejaVuSans-50\"/>\r\n       <use x=\"159.033203\" xlink:href=\"#DejaVuSans-53\"/>\r\n      </g>\r\n     </g>\r\n    </g>\r\n    <g id=\"ytick_7\">\r\n     <g id=\"line2d_16\">\r\n      <g>\r\n       <use style=\"stroke:#000000;stroke-width:0.8;\" x=\"212.134091\" xlink:href=\"#m4d98947a15\" y=\"90.599229\"/>\r\n      </g>\r\n     </g>\r\n     <g id=\"text_17\">\r\n      <!-- 0.50 -->\r\n      <g transform=\"translate(182.868466 94.398448)scale(0.1 -0.1)\">\r\n       <use xlink:href=\"#DejaVuSans-48\"/>\r\n       <use x=\"63.623047\" xlink:href=\"#DejaVuSans-46\"/>\r\n       <use x=\"95.410156\" xlink:href=\"#DejaVuSans-53\"/>\r\n       <use x=\"159.033203\" xlink:href=\"#DejaVuSans-48\"/>\r\n      </g>\r\n     </g>\r\n    </g>\r\n    <g id=\"ytick_8\">\r\n     <g id=\"line2d_17\">\r\n      <g>\r\n       <use style=\"stroke:#000000;stroke-width:0.8;\" x=\"212.134091\" xlink:href=\"#m4d98947a15\" y=\"62.142907\"/>\r\n      </g>\r\n     </g>\r\n     <g id=\"text_18\">\r\n      <!-- 0.75 -->\r\n      <g transform=\"translate(182.868466 65.942126)scale(0.1 -0.1)\">\r\n       <use xlink:href=\"#DejaVuSans-48\"/>\r\n       <use x=\"63.623047\" xlink:href=\"#DejaVuSans-46\"/>\r\n       <use x=\"95.410156\" xlink:href=\"#DejaVuSans-55\"/>\r\n       <use x=\"159.033203\" xlink:href=\"#DejaVuSans-53\"/>\r\n      </g>\r\n     </g>\r\n    </g>\r\n    <g id=\"ytick_9\">\r\n     <g id=\"line2d_18\">\r\n      <g>\r\n       <use style=\"stroke:#000000;stroke-width:0.8;\" x=\"212.134091\" xlink:href=\"#m4d98947a15\" y=\"33.686585\"/>\r\n      </g>\r\n     </g>\r\n     <g id=\"text_19\">\r\n      <!-- 1.00 -->\r\n      <g transform=\"translate(182.868466 37.485804)scale(0.1 -0.1)\">\r\n       <use xlink:href=\"#DejaVuSans-49\"/>\r\n       <use x=\"63.623047\" xlink:href=\"#DejaVuSans-46\"/>\r\n       <use x=\"95.410156\" xlink:href=\"#DejaVuSans-48\"/>\r\n       <use x=\"159.033203\" xlink:href=\"#DejaVuSans-48\"/>\r\n      </g>\r\n     </g>\r\n    </g>\r\n    <g id=\"text_20\">\r\n     <!-- ylabel -->\r\n     <g transform=\"translate(168.409091 37.370469)rotate(-90)scale(0.1 -0.1)\">\r\n      <defs>\r\n       <path d=\"M 32.171875 -5.078125 \r\nQ 28.375 -14.84375 24.75 -17.8125 \r\nQ 21.140625 -20.796875 15.09375 -20.796875 \r\nL 7.90625 -20.796875 \r\nL 7.90625 -13.28125 \r\nL 13.1875 -13.28125 \r\nQ 16.890625 -13.28125 18.9375 -11.515625 \r\nQ 21 -9.765625 23.484375 -3.21875 \r\nL 25.09375 0.875 \r\nL 2.984375 54.6875 \r\nL 12.5 54.6875 \r\nL 29.59375 11.921875 \r\nL 46.6875 54.6875 \r\nL 56.203125 54.6875 \r\nz\r\n\" id=\"DejaVuSans-121\"/>\r\n      </defs>\r\n      <use xlink:href=\"#DejaVuSans-121\"/>\r\n      <use x=\"59.179688\" xlink:href=\"#DejaVuSans-108\"/>\r\n      <use x=\"86.962891\" xlink:href=\"#DejaVuSans-97\"/>\r\n      <use x=\"148.242188\" xlink:href=\"#DejaVuSans-98\"/>\r\n      <use x=\"211.71875\" xlink:href=\"#DejaVuSans-101\"/>\r\n      <use x=\"273.242188\" xlink:href=\"#DejaVuSans-108\"/>\r\n     </g>\r\n    </g>\r\n   </g>\r\n   <g id=\"LineCollection_1\">\r\n    <path clip-path=\"url(#p592fdf5e6a)\" d=\"M 25.830372 85.588514 \r\nL 31.902548 119.42901 \r\n\" style=\"fill:none;stroke:#ff0000;stroke-width:1.5;\"/>\r\n    <path clip-path=\"url(#p592fdf5e6a)\" d=\"M 31.902548 119.42901 \r\nL 38.915185 161.941921 \r\n\" style=\"fill:none;stroke:#ff0000;stroke-width:1.5;\"/>\r\n    <path clip-path=\"url(#p592fdf5e6a)\" d=\"M 38.915185 161.941921 \r\nL 44.689231 195.689737 \r\n\" style=\"fill:none;stroke:#ff0000;stroke-width:1.5;\"/>\r\n    <path clip-path=\"url(#p592fdf5e6a)\" d=\"M 44.689231 195.689737 \r\nL 47.599714 211.14827 \r\n\" style=\"fill:none;stroke:#ff0000;stroke-width:1.5;\"/>\r\n    <path clip-path=\"url(#p592fdf5e6a)\" d=\"M 47.599714 211.14827 \r\nL 50.757221 226.154849 \r\n\" style=\"fill:none;stroke:#ff0000;stroke-width:1.5;\"/>\r\n    <path clip-path=\"url(#p592fdf5e6a)\" d=\"M 50.757221 226.154849 \r\nL 52.677133 234.202737 \r\n\" style=\"fill:none;stroke:#ff0000;stroke-width:1.5;\"/>\r\n    <path clip-path=\"url(#p592fdf5e6a)\" d=\"M 52.677133 234.202737 \r\nL 54.469483 240.887289 \r\n\" style=\"fill:none;stroke:#ff0000;stroke-width:1.5;\"/>\r\n    <path clip-path=\"url(#p592fdf5e6a)\" d=\"M 54.469483 240.887289 \r\nL 56.102532 246.227319 \r\n\" style=\"fill:none;stroke:#ff0000;stroke-width:1.5;\"/>\r\n    <path clip-path=\"url(#p592fdf5e6a)\" d=\"M 56.102532 246.227319 \r\nL 58.094471 251.711143 \r\n\" style=\"fill:none;stroke:#ff0000;stroke-width:1.5;\"/>\r\n    <path clip-path=\"url(#p592fdf5e6a)\" d=\"M 58.094471 251.711143 \r\nL 59.563402 254.99575 \r\n\" style=\"fill:none;stroke:#ff0000;stroke-width:1.5;\"/>\r\n    <path clip-path=\"url(#p592fdf5e6a)\" d=\"M 59.563402 254.99575 \r\nL 61.296299 258.010629 \r\n\" style=\"fill:none;stroke:#ff0000;stroke-width:1.5;\"/>\r\n    <path clip-path=\"url(#p592fdf5e6a)\" d=\"M 61.296299 258.010629 \r\nL 62.931992 259.9803 \r\n\" style=\"fill:none;stroke:#ff0000;stroke-width:1.5;\"/>\r\n    <path clip-path=\"url(#p592fdf5e6a)\" d=\"M 62.931992 259.9803 \r\nL 63.882927 260.727839 \r\n\" style=\"fill:none;stroke:#ff0000;stroke-width:1.5;\"/>\r\n    <path clip-path=\"url(#p592fdf5e6a)\" d=\"M 63.882927 260.727839 \r\nL 64.87332 261.192869 \r\n\" style=\"fill:none;stroke:#ff0000;stroke-width:1.5;\"/>\r\n    <path clip-path=\"url(#p592fdf5e6a)\" d=\"M 64.87332 261.192869 \r\nL 65.886978 261.336226 \r\n\" style=\"fill:none;stroke:#ff0000;stroke-width:1.5;\"/>\r\n    <path clip-path=\"url(#p592fdf5e6a)\" d=\"M 65.886978 261.336226 \r\nL 66.875551 261.15156 \r\n\" style=\"fill:none;stroke:#ff0000;stroke-width:1.5;\"/>\r\n    <path clip-path=\"url(#p592fdf5e6a)\" d=\"M 66.875551 261.15156 \r\nL 67.860906 260.649163 \r\n\" style=\"fill:none;stroke:#ff0000;stroke-width:1.5;\"/>\r\n    <path clip-path=\"url(#p592fdf5e6a)\" d=\"M 67.860906 260.649163 \r\nL 68.713091 259.959436 \r\n\" style=\"fill:none;stroke:#ff0000;stroke-width:1.5;\"/>\r\n    <path clip-path=\"url(#p592fdf5e6a)\" d=\"M 68.713091 259.959436 \r\nL 69.832068 258.696844 \r\n\" style=\"fill:none;stroke:#ff0000;stroke-width:1.5;\"/>\r\n    <path clip-path=\"url(#p592fdf5e6a)\" d=\"M 69.832068 258.696844 \r\nL 70.805387 257.272329 \r\n\" style=\"fill:none;stroke:#ff0000;stroke-width:1.5;\"/>\r\n    <path clip-path=\"url(#p592fdf5e6a)\" d=\"M 70.805387 257.272329 \r\nL 72.125387 254.862758 \r\n\" style=\"fill:none;stroke:#ff0000;stroke-width:1.5;\"/>\r\n    <path clip-path=\"url(#p592fdf5e6a)\" d=\"M 72.125387 254.862758 \r\nL 73.361065 252.118679 \r\n\" style=\"fill:none;stroke:#ff0000;stroke-width:1.5;\"/>\r\n    <path clip-path=\"url(#p592fdf5e6a)\" d=\"M 73.361065 252.118679 \r\nL 75.253497 247.02918 \r\n\" style=\"fill:none;stroke:#ff0000;stroke-width:1.5;\"/>\r\n    <path clip-path=\"url(#p592fdf5e6a)\" d=\"M 75.253497 247.02918 \r\nL 77.03999 241.282159 \r\n\" style=\"fill:none;stroke:#ff0000;stroke-width:1.5;\"/>\r\n    <path clip-path=\"url(#p592fdf5e6a)\" d=\"M 77.03999 241.282159 \r\nL 78.93485 234.246279 \r\n\" style=\"fill:none;stroke:#ff0000;stroke-width:1.5;\"/>\r\n    <path clip-path=\"url(#p592fdf5e6a)\" d=\"M 78.93485 234.246279 \r\nL 81.014213 225.496665 \r\n\" style=\"fill:none;stroke:#ff0000;stroke-width:1.5;\"/>\r\n    <path clip-path=\"url(#p592fdf5e6a)\" d=\"M 81.014213 225.496665 \r\nL 83.782209 212.364038 \r\n\" style=\"fill:none;stroke:#ff0000;stroke-width:1.5;\"/>\r\n    <path clip-path=\"url(#p592fdf5e6a)\" d=\"M 83.782209 212.364038 \r\nL 86.572991 197.677544 \r\n\" style=\"fill:none;stroke:#ff0000;stroke-width:1.5;\"/>\r\n    <path clip-path=\"url(#p592fdf5e6a)\" d=\"M 86.572991 197.677544 \r\nL 92.025255 166.06778 \r\n\" style=\"fill:none;stroke:#ff0000;stroke-width:1.5;\"/>\r\n    <path clip-path=\"url(#p592fdf5e6a)\" d=\"M 92.025255 166.06778 \r\nL 97.455919 133.01096 \r\n\" style=\"fill:none;stroke:#ff0000;stroke-width:1.5;\"/>\r\n    <path clip-path=\"url(#p592fdf5e6a)\" d=\"M 97.455919 133.01096 \r\nL 103.229974 99.269234 \r\n\" style=\"fill:none;stroke:#ff0000;stroke-width:1.5;\"/>\r\n    <path clip-path=\"url(#p592fdf5e6a)\" d=\"M 103.229974 99.269234 \r\nL 106.412913 82.443482 \r\n\" style=\"fill:none;stroke:#ff0000;stroke-width:1.5;\"/>\r\n    <path clip-path=\"url(#p592fdf5e6a)\" d=\"M 106.412913 82.443482 \r\nL 110.064764 65.499957 \r\n\" style=\"fill:none;stroke:#ff0000;stroke-width:1.5;\"/>\r\n    <path clip-path=\"url(#p592fdf5e6a)\" d=\"M 110.064764 65.499957 \r\nL 111.757859 58.675066 \r\n\" style=\"fill:none;stroke:#ff0000;stroke-width:1.5;\"/>\r\n    <path clip-path=\"url(#p592fdf5e6a)\" d=\"M 111.757859 58.675066 \r\nL 113.305912 53.075206 \r\n\" style=\"fill:none;stroke:#ff0000;stroke-width:1.5;\"/>\r\n    <path clip-path=\"url(#p592fdf5e6a)\" d=\"M 113.305912 53.075206 \r\nL 114.755048 48.423008 \r\n\" style=\"fill:none;stroke:#ff0000;stroke-width:1.5;\"/>\r\n    <path clip-path=\"url(#p592fdf5e6a)\" d=\"M 114.755048 48.423008 \r\nL 116.085234 44.679518 \r\n\" style=\"fill:none;stroke:#ff0000;stroke-width:1.5;\"/>\r\n    <path clip-path=\"url(#p592fdf5e6a)\" d=\"M 116.085234 44.679518 \r\nL 117.308307 41.699467 \r\n\" style=\"fill:none;stroke:#ff0000;stroke-width:1.5;\"/>\r\n    <path clip-path=\"url(#p592fdf5e6a)\" d=\"M 117.308307 41.699467 \r\nL 118.744662 38.782631 \r\n\" style=\"fill:none;stroke:#ff0000;stroke-width:1.5;\"/>\r\n    <path clip-path=\"url(#p592fdf5e6a)\" d=\"M 118.744662 38.782631 \r\nL 120.460001 36.146824 \r\n\" style=\"fill:none;stroke:#ff0000;stroke-width:1.5;\"/>\r\n    <path clip-path=\"url(#p592fdf5e6a)\" d=\"M 120.460001 36.146824 \r\nL 121.91235 34.651998 \r\n\" style=\"fill:none;stroke:#ff0000;stroke-width:1.5;\"/>\r\n    <path clip-path=\"url(#p592fdf5e6a)\" d=\"M 121.91235 34.651998 \r\nL 123.262465 33.877103 \r\n\" style=\"fill:none;stroke:#ff0000;stroke-width:1.5;\"/>\r\n    <path clip-path=\"url(#p592fdf5e6a)\" d=\"M 123.262465 33.877103 \r\nL 124.716213 33.709727 \r\n\" style=\"fill:none;stroke:#ff0000;stroke-width:1.5;\"/>\r\n    <path clip-path=\"url(#p592fdf5e6a)\" d=\"M 124.716213 33.709727 \r\nL 125.58126 33.93891 \r\n\" style=\"fill:none;stroke:#ff0000;stroke-width:1.5;\"/>\r\n    <path clip-path=\"url(#p592fdf5e6a)\" d=\"M 125.58126 33.93891 \r\nL 126.549553 34.485788 \r\n\" style=\"fill:none;stroke:#ff0000;stroke-width:1.5;\"/>\r\n    <path clip-path=\"url(#p592fdf5e6a)\" d=\"M 126.549553 34.485788 \r\nL 128.087418 35.980844 \r\n\" style=\"fill:none;stroke:#ff0000;stroke-width:1.5;\"/>\r\n    <path clip-path=\"url(#p592fdf5e6a)\" d=\"M 128.087418 35.980844 \r\nL 129.123609 37.417314 \r\n\" style=\"fill:none;stroke:#ff0000;stroke-width:1.5;\"/>\r\n    <path clip-path=\"url(#p592fdf5e6a)\" d=\"M 129.123609 37.417314 \r\nL 130.183586 39.239011 \r\n\" style=\"fill:none;stroke:#ff0000;stroke-width:1.5;\"/>\r\n    <path clip-path=\"url(#p592fdf5e6a)\" d=\"M 130.183586 39.239011 \r\nL 131.365286 41.682652 \r\n\" style=\"fill:none;stroke:#ff0000;stroke-width:1.5;\"/>\r\n    <path clip-path=\"url(#p592fdf5e6a)\" d=\"M 131.365286 41.682652 \r\nL 132.742289 45.066345 \r\n\" style=\"fill:none;stroke:#ff0000;stroke-width:1.5;\"/>\r\n    <path clip-path=\"url(#p592fdf5e6a)\" d=\"M 132.742289 45.066345 \r\nL 134.089159 48.917308 \r\n\" style=\"fill:none;stroke:#ff0000;stroke-width:1.5;\"/>\r\n    <path clip-path=\"url(#p592fdf5e6a)\" d=\"M 134.089159 48.917308 \r\nL 135.731842 54.30904 \r\n\" style=\"fill:none;stroke:#ff0000;stroke-width:1.5;\"/>\r\n    <path clip-path=\"url(#p592fdf5e6a)\" d=\"M 135.731842 54.30904 \r\nL 138.28728 64.118853 \r\n\" style=\"fill:none;stroke:#ff0000;stroke-width:1.5;\"/>\r\n    <path clip-path=\"url(#p592fdf5e6a)\" d=\"M 138.28728 64.118853 \r\nL 141.26733 77.522693 \r\n\" style=\"fill:none;stroke:#ff0000;stroke-width:1.5;\"/>\r\n    <path clip-path=\"url(#p592fdf5e6a)\" d=\"M 141.26733 77.522693 \r\nL 143.869233 90.699906 \r\n\" style=\"fill:none;stroke:#ff0000;stroke-width:1.5;\"/>\r\n    <path clip-path=\"url(#p592fdf5e6a)\" d=\"M 143.869233 90.699906 \r\nL 149.036278 119.87715 \r\n\" style=\"fill:none;stroke:#ff0000;stroke-width:1.5;\"/>\r\n    <path clip-path=\"url(#p592fdf5e6a)\" d=\"M 149.036278 119.87715 \r\nL 153.398636 146.250771 \r\n\" style=\"fill:none;stroke:#ff0000;stroke-width:1.5;\"/>\r\n    <path clip-path=\"url(#p592fdf5e6a)\" d=\"M 153.398636 146.250771 \r\nL 157.693163 172.288896 \r\n\" style=\"fill:none;stroke:#ff0000;stroke-width:1.5;\"/>\r\n    <path clip-path=\"url(#p592fdf5e6a)\" d=\"M 157.693163 172.288896 \r\nL 161.891639 196.487203 \r\n\" style=\"fill:none;stroke:#ff0000;stroke-width:1.5;\"/>\r\n    <path clip-path=\"url(#p592fdf5e6a)\" d=\"M 161.891639 196.487203 \r\nL 166.753638 221.340443 \r\n\" style=\"fill:none;stroke:#ff0000;stroke-width:1.5;\"/>\r\n    <path clip-path=\"url(#p592fdf5e6a)\" d=\"M 166.753638 221.340443 \r\nL 169.54895 233.460958 \r\n\" style=\"fill:none;stroke:#ff0000;stroke-width:1.5;\"/>\r\n    <path clip-path=\"url(#p592fdf5e6a)\" d=\"M 169.54895 233.460958 \r\nL 171.960661 242.375157 \r\n\" style=\"fill:none;stroke:#ff0000;stroke-width:1.5;\"/>\r\n    <path clip-path=\"url(#p592fdf5e6a)\" d=\"M 171.960661 242.375157 \r\nL 173.450108 247.095957 \r\n\" style=\"fill:none;stroke:#ff0000;stroke-width:1.5;\"/>\r\n    <path clip-path=\"url(#p592fdf5e6a)\" d=\"M 173.450108 247.095957 \r\nL 174.827925 250.89712 \r\n\" style=\"fill:none;stroke:#ff0000;stroke-width:1.5;\"/>\r\n    <path clip-path=\"url(#p592fdf5e6a)\" d=\"M 174.827925 250.89712 \r\nL 176.257854 254.244137 \r\n\" style=\"fill:none;stroke:#ff0000;stroke-width:1.5;\"/>\r\n    <path clip-path=\"url(#p592fdf5e6a)\" d=\"M 176.257854 254.244137 \r\nL 177.934223 257.366524 \r\n\" style=\"fill:none;stroke:#ff0000;stroke-width:1.5;\"/>\r\n    <path clip-path=\"url(#p592fdf5e6a)\" d=\"M 177.934223 257.366524 \r\nL 179.272497 259.222138 \r\n\" style=\"fill:none;stroke:#ff0000;stroke-width:1.5;\"/>\r\n    <path clip-path=\"url(#p592fdf5e6a)\" d=\"M 179.272497 259.222138 \r\nL 180.504192 260.420974 \r\n\" style=\"fill:none;stroke:#ff0000;stroke-width:1.5;\"/>\r\n    <path clip-path=\"url(#p592fdf5e6a)\" d=\"M 180.504192 260.420974 \r\nL 181.68605 261.10756 \r\n\" style=\"fill:none;stroke:#ff0000;stroke-width:1.5;\"/>\r\n    <path clip-path=\"url(#p592fdf5e6a)\" d=\"M 181.68605 261.10756 \r\nL 182.797424 261.336307 \r\n\" style=\"fill:none;stroke:#ff0000;stroke-width:1.5;\"/>\r\n    <path clip-path=\"url(#p592fdf5e6a)\" d=\"M 182.797424 261.336307 \r\nL 183.897596 261.163914 \r\n\" style=\"fill:none;stroke:#ff0000;stroke-width:1.5;\"/>\r\n    <path clip-path=\"url(#p592fdf5e6a)\" d=\"M 183.897596 261.163914 \r\nL 185.134982 260.496686 \r\n\" style=\"fill:none;stroke:#ff0000;stroke-width:1.5;\"/>\r\n    <path clip-path=\"url(#p592fdf5e6a)\" d=\"M 185.134982 260.496686 \r\nL 186.450152 259.241429 \r\n\" style=\"fill:none;stroke:#ff0000;stroke-width:1.5;\"/>\r\n    <path clip-path=\"url(#p592fdf5e6a)\" d=\"M 186.450152 259.241429 \r\nL 187.983897 257.075161 \r\n\" style=\"fill:none;stroke:#ff0000;stroke-width:1.5;\"/>\r\n    <path clip-path=\"url(#p592fdf5e6a)\" d=\"M 187.983897 257.075161 \r\nL 189.245161 254.736856 \r\n\" style=\"fill:none;stroke:#ff0000;stroke-width:1.5;\"/>\r\n    <path clip-path=\"url(#p592fdf5e6a)\" d=\"M 189.245161 254.736856 \r\nL 190.72661 251.363902 \r\n\" style=\"fill:none;stroke:#ff0000;stroke-width:1.5;\"/>\r\n    <path clip-path=\"url(#p592fdf5e6a)\" d=\"M 190.72661 251.363902 \r\nL 192.151917 247.498998 \r\n\" style=\"fill:none;stroke:#ff0000;stroke-width:1.5;\"/>\r\n    <path clip-path=\"url(#p592fdf5e6a)\" d=\"M 192.151917 247.498998 \r\nL 193.72207 242.565197 \r\n\" style=\"fill:none;stroke:#ff0000;stroke-width:1.5;\"/>\r\n    <path clip-path=\"url(#p592fdf5e6a)\" d=\"M 193.72207 242.565197 \r\nL 196.528004 232.093772 \r\n\" style=\"fill:none;stroke:#ff0000;stroke-width:1.5;\"/>\r\n    <path clip-path=\"url(#p592fdf5e6a)\" d=\"M 196.528004 232.093772 \r\nL 199.728763 217.826335 \r\n\" style=\"fill:none;stroke:#ff0000;stroke-width:1.5;\"/>\r\n    <path clip-path=\"url(#p592fdf5e6a)\" d=\"M 199.728763 217.826335 \r\nL 202.882396 201.741886 \r\n\" style=\"fill:none;stroke:#ff0000;stroke-width:1.5;\"/>\r\n    <path clip-path=\"url(#p592fdf5e6a)\" d=\"M 202.882396 201.741886 \r\nL 206.105439 183.705447 \r\n\" style=\"fill:none;stroke:#ff0000;stroke-width:1.5;\"/>\r\n    <path clip-path=\"url(#p592fdf5e6a)\" d=\"M 206.105439 183.705447 \r\nL 212.108426 147.668674 \r\n\" style=\"fill:none;stroke:#ff0000;stroke-width:1.5;\"/>\r\n    <path clip-path=\"url(#p592fdf5e6a)\" d=\"M 212.108426 147.668674 \r\nL 216.136312 123.247289 \r\n\" style=\"fill:none;stroke:#ff0000;stroke-width:1.5;\"/>\r\n    <path clip-path=\"url(#p592fdf5e6a)\" d=\"M 216.136312 123.247289 \r\nL 220.727584 96.850621 \r\n\" style=\"fill:none;stroke:#ff0000;stroke-width:1.5;\"/>\r\n    <path clip-path=\"url(#p592fdf5e6a)\" d=\"M 220.727584 96.850621 \r\nL 223.413405 82.732478 \r\n\" style=\"fill:none;stroke:#ff0000;stroke-width:1.5;\"/>\r\n    <path clip-path=\"url(#p592fdf5e6a)\" d=\"M 223.413405 82.732478 \r\nL 226.080197 70.043464 \r\n\" style=\"fill:none;stroke:#ff0000;stroke-width:1.5;\"/>\r\n    <path clip-path=\"url(#p592fdf5e6a)\" d=\"M 226.080197 70.043464 \r\nL 228.650081 59.312112 \r\n\" style=\"fill:none;stroke:#ff0000;stroke-width:1.5;\"/>\r\n    <path clip-path=\"url(#p592fdf5e6a)\" d=\"M 228.650081 59.312112 \r\nL 231.21451 50.273652 \r\n\" style=\"fill:none;stroke:#ff0000;stroke-width:1.5;\"/>\r\n    <path clip-path=\"url(#p592fdf5e6a)\" d=\"M 231.21451 50.273652 \r\nL 232.735909 45.771221 \r\n\" style=\"fill:none;stroke:#ff0000;stroke-width:1.5;\"/>\r\n    <path clip-path=\"url(#p592fdf5e6a)\" d=\"M 232.735909 45.771221 \r\nL 234.035416 42.461395 \r\n\" style=\"fill:none;stroke:#ff0000;stroke-width:1.5;\"/>\r\n    <path clip-path=\"url(#p592fdf5e6a)\" d=\"M 234.035416 42.461395 \r\nL 235.287884 39.754708 \r\n\" style=\"fill:none;stroke:#ff0000;stroke-width:1.5;\"/>\r\n    <path clip-path=\"url(#p592fdf5e6a)\" d=\"M 235.287884 39.754708 \r\nL 236.577797 37.476084 \r\n\" style=\"fill:none;stroke:#ff0000;stroke-width:1.5;\"/>\r\n    <path clip-path=\"url(#p592fdf5e6a)\" d=\"M 236.577797 37.476084 \r\nL 238.102396 35.463487 \r\n\" style=\"fill:none;stroke:#ff0000;stroke-width:1.5;\"/>\r\n    <path clip-path=\"url(#p592fdf5e6a)\" d=\"M 238.102396 35.463487 \r\nL 239.528252 34.259712 \r\n\" style=\"fill:none;stroke:#ff0000;stroke-width:1.5;\"/>\r\n    <path clip-path=\"url(#p592fdf5e6a)\" d=\"M 239.528252 34.259712 \r\nL 241.113188 33.699943 \r\n\" style=\"fill:none;stroke:#ff0000;stroke-width:1.5;\"/>\r\n    <path clip-path=\"url(#p592fdf5e6a)\" d=\"M 241.113188 33.699943 \r\nL 242.584416 33.917072 \r\n\" style=\"fill:none;stroke:#ff0000;stroke-width:1.5;\"/>\r\n    <path clip-path=\"url(#p592fdf5e6a)\" d=\"M 242.584416 33.917072 \r\nL 243.802598 34.632882 \r\n\" style=\"fill:none;stroke:#ff0000;stroke-width:1.5;\"/>\r\n    <path clip-path=\"url(#p592fdf5e6a)\" d=\"M 243.802598 34.632882 \r\nL 245.243473 36.101965 \r\n\" style=\"fill:none;stroke:#ff0000;stroke-width:1.5;\"/>\r\n    <path clip-path=\"url(#p592fdf5e6a)\" d=\"M 245.243473 36.101965 \r\nL 246.590664 38.078271 \r\n\" style=\"fill:none;stroke:#ff0000;stroke-width:1.5;\"/>\r\n    <path clip-path=\"url(#p592fdf5e6a)\" d=\"M 246.590664 38.078271 \r\nL 247.888508 40.523264 \r\n\" style=\"fill:none;stroke:#ff0000;stroke-width:1.5;\"/>\r\n    <path clip-path=\"url(#p592fdf5e6a)\" d=\"M 247.888508 40.523264 \r\nL 249.206052 43.536172 \r\n\" style=\"fill:none;stroke:#ff0000;stroke-width:1.5;\"/>\r\n    <path clip-path=\"url(#p592fdf5e6a)\" d=\"M 249.206052 43.536172 \r\nL 250.597253 47.281371 \r\n\" style=\"fill:none;stroke:#ff0000;stroke-width:1.5;\"/>\r\n    <path clip-path=\"url(#p592fdf5e6a)\" d=\"M 250.597253 47.281371 \r\nL 253.015596 55.107352 \r\n\" style=\"fill:none;stroke:#ff0000;stroke-width:1.5;\"/>\r\n    <path clip-path=\"url(#p592fdf5e6a)\" d=\"M 253.015596 55.107352 \r\nL 254.650663 61.288713 \r\n\" style=\"fill:none;stroke:#ff0000;stroke-width:1.5;\"/>\r\n    <path clip-path=\"url(#p592fdf5e6a)\" d=\"M 254.650663 61.288713 \r\nL 256.255442 68.001256 \r\n\" style=\"fill:none;stroke:#ff0000;stroke-width:1.5;\"/>\r\n    <path clip-path=\"url(#p592fdf5e6a)\" d=\"M 256.255442 68.001256 \r\nL 259.09393 81.284068 \r\n\" style=\"fill:none;stroke:#ff0000;stroke-width:1.5;\"/>\r\n    <path clip-path=\"url(#p592fdf5e6a)\" d=\"M 259.09393 81.284068 \r\nL 264.887197 112.785474 \r\n\" style=\"fill:none;stroke:#ff0000;stroke-width:1.5;\"/>\r\n    <path clip-path=\"url(#p592fdf5e6a)\" d=\"M 264.887197 112.785474 \r\nL 271.180164 150.670368 \r\n\" style=\"fill:none;stroke:#ff0000;stroke-width:1.5;\"/>\r\n    <path clip-path=\"url(#p592fdf5e6a)\" d=\"M 271.180164 150.670368 \r\nL 278.20183 192.324103 \r\n\" style=\"fill:none;stroke:#ff0000;stroke-width:1.5;\"/>\r\n    <path clip-path=\"url(#p592fdf5e6a)\" d=\"M 278.20183 192.324103 \r\nL 283.65347 220.601914 \r\n\" style=\"fill:none;stroke:#ff0000;stroke-width:1.5;\"/>\r\n    <path clip-path=\"url(#p592fdf5e6a)\" d=\"M 283.65347 220.601914 \r\nL 286.58479 233.371815 \r\n\" style=\"fill:none;stroke:#ff0000;stroke-width:1.5;\"/>\r\n    <path clip-path=\"url(#p592fdf5e6a)\" d=\"M 286.58479 233.371815 \r\nL 289.116658 242.704469 \r\n\" style=\"fill:none;stroke:#ff0000;stroke-width:1.5;\"/>\r\n    <path clip-path=\"url(#p592fdf5e6a)\" d=\"M 289.116658 242.704469 \r\nL 290.298529 246.469266 \r\n\" style=\"fill:none;stroke:#ff0000;stroke-width:1.5;\"/>\r\n    <path clip-path=\"url(#p592fdf5e6a)\" d=\"M 290.298529 246.469266 \r\nL 291.635929 250.248621 \r\n\" style=\"fill:none;stroke:#ff0000;stroke-width:1.5;\"/>\r\n    <path clip-path=\"url(#p592fdf5e6a)\" d=\"M 291.635929 250.248621 \r\nL 292.775 253.050898 \r\n\" style=\"fill:none;stroke:#ff0000;stroke-width:1.5;\"/>\r\n    <path clip-path=\"url(#p592fdf5e6a)\" d=\"M 292.775 253.050898 \r\nL 293.73393 255.10462 \r\n\" style=\"fill:none;stroke:#ff0000;stroke-width:1.5;\"/>\r\n    <path clip-path=\"url(#p592fdf5e6a)\" d=\"M 293.73393 255.10462 \r\nL 295.111362 257.554732 \r\n\" style=\"fill:none;stroke:#ff0000;stroke-width:1.5;\"/>\r\n    <path clip-path=\"url(#p592fdf5e6a)\" d=\"M 295.111362 257.554732 \r\nL 296.65136 259.58162 \r\n\" style=\"fill:none;stroke:#ff0000;stroke-width:1.5;\"/>\r\n    <path clip-path=\"url(#p592fdf5e6a)\" d=\"M 296.65136 259.58162 \r\nL 297.785564 260.585605 \r\n\" style=\"fill:none;stroke:#ff0000;stroke-width:1.5;\"/>\r\n    <path clip-path=\"url(#p592fdf5e6a)\" d=\"M 297.785564 260.585605 \r\nL 299.113029 261.228365 \r\n\" style=\"fill:none;stroke:#ff0000;stroke-width:1.5;\"/>\r\n    <path clip-path=\"url(#p592fdf5e6a)\" d=\"M 299.113029 261.228365 \r\nL 300.607009 261.261492 \r\n\" style=\"fill:none;stroke:#ff0000;stroke-width:1.5;\"/>\r\n    <path clip-path=\"url(#p592fdf5e6a)\" d=\"M 300.607009 261.261492 \r\nL 302.060622 260.59198 \r\n\" style=\"fill:none;stroke:#ff0000;stroke-width:1.5;\"/>\r\n    <path clip-path=\"url(#p592fdf5e6a)\" d=\"M 302.060622 260.59198 \r\nL 303.64667 259.076788 \r\n\" style=\"fill:none;stroke:#ff0000;stroke-width:1.5;\"/>\r\n    <path clip-path=\"url(#p592fdf5e6a)\" d=\"M 303.64667 259.076788 \r\nL 304.980335 257.176651 \r\n\" style=\"fill:none;stroke:#ff0000;stroke-width:1.5;\"/>\r\n    <path clip-path=\"url(#p592fdf5e6a)\" d=\"M 304.980335 257.176651 \r\nL 306.08832 255.170351 \r\n\" style=\"fill:none;stroke:#ff0000;stroke-width:1.5;\"/>\r\n    <path clip-path=\"url(#p592fdf5e6a)\" d=\"M 306.08832 255.170351 \r\nL 307.430234 252.231526 \r\n\" style=\"fill:none;stroke:#ff0000;stroke-width:1.5;\"/>\r\n    <path clip-path=\"url(#p592fdf5e6a)\" d=\"M 307.430234 252.231526 \r\nL 308.667545 249.040172 \r\n\" style=\"fill:none;stroke:#ff0000;stroke-width:1.5;\"/>\r\n    <path clip-path=\"url(#p592fdf5e6a)\" d=\"M 308.667545 249.040172 \r\nL 309.970937 245.194528 \r\n\" style=\"fill:none;stroke:#ff0000;stroke-width:1.5;\"/>\r\n    <path clip-path=\"url(#p592fdf5e6a)\" d=\"M 309.970937 245.194528 \r\nL 311.713108 239.311588 \r\n\" style=\"fill:none;stroke:#ff0000;stroke-width:1.5;\"/>\r\n    <path clip-path=\"url(#p592fdf5e6a)\" d=\"M 311.713108 239.311588 \r\nL 313.232415 233.524438 \r\n\" style=\"fill:none;stroke:#ff0000;stroke-width:1.5;\"/>\r\n    <path clip-path=\"url(#p592fdf5e6a)\" d=\"M 313.232415 233.524438 \r\nL 315.940135 221.820359 \r\n\" style=\"fill:none;stroke:#ff0000;stroke-width:1.5;\"/>\r\n    <path clip-path=\"url(#p592fdf5e6a)\" d=\"M 315.940135 221.820359 \r\nL 318.956821 206.94774 \r\n\" style=\"fill:none;stroke:#ff0000;stroke-width:1.5;\"/>\r\n    <path clip-path=\"url(#p592fdf5e6a)\" d=\"M 318.956821 206.94774 \r\nL 322.493731 187.561008 \r\n\" style=\"fill:none;stroke:#ff0000;stroke-width:1.5;\"/>\r\n    <path clip-path=\"url(#p592fdf5e6a)\" d=\"M 322.493731 187.561008 \r\nL 328.759584 150.154592 \r\n\" style=\"fill:none;stroke:#ff0000;stroke-width:1.5;\"/>\r\n    <path clip-path=\"url(#p592fdf5e6a)\" d=\"M 328.759584 150.154592 \r\nL 336.093073 106.307234 \r\n\" style=\"fill:none;stroke:#ff0000;stroke-width:1.5;\"/>\r\n    <path clip-path=\"url(#p592fdf5e6a)\" d=\"M 336.093073 106.307234 \r\nL 338.961863 90.520658 \r\n\" style=\"fill:none;stroke:#ff0000;stroke-width:1.5;\"/>\r\n    <path clip-path=\"url(#p592fdf5e6a)\" d=\"M 338.961863 90.520658 \r\nL 342.08544 74.877462 \r\n\" style=\"fill:none;stroke:#ff0000;stroke-width:1.5;\"/>\r\n    <path clip-path=\"url(#p592fdf5e6a)\" d=\"M 342.08544 74.877462 \r\nL 343.778566 67.223625 \r\n\" style=\"fill:none;stroke:#ff0000;stroke-width:1.5;\"/>\r\n    <path clip-path=\"url(#p592fdf5e6a)\" d=\"M 343.778566 67.223625 \r\nL 345.630699 59.61203 \r\n\" style=\"fill:none;stroke:#ff0000;stroke-width:1.5;\"/>\r\n    <path clip-path=\"url(#p592fdf5e6a)\" d=\"M 345.630699 59.61203 \r\nL 347.288721 53.532449 \r\n\" style=\"fill:none;stroke:#ff0000;stroke-width:1.5;\"/>\r\n    <path clip-path=\"url(#p592fdf5e6a)\" d=\"M 347.288721 53.532449 \r\nL 348.883737 48.385355 \r\n\" style=\"fill:none;stroke:#ff0000;stroke-width:1.5;\"/>\r\n    <path clip-path=\"url(#p592fdf5e6a)\" d=\"M 348.883737 48.385355 \r\nL 350.35989 44.268053 \r\n\" style=\"fill:none;stroke:#ff0000;stroke-width:1.5;\"/>\r\n    <path clip-path=\"url(#p592fdf5e6a)\" d=\"M 350.35989 44.268053 \r\nL 351.698911 41.092976 \r\n\" style=\"fill:none;stroke:#ff0000;stroke-width:1.5;\"/>\r\n    <path clip-path=\"url(#p592fdf5e6a)\" d=\"M 351.698911 41.092976 \r\nL 353.030918 38.47969 \r\n\" style=\"fill:none;stroke:#ff0000;stroke-width:1.5;\"/>\r\n    <path clip-path=\"url(#p592fdf5e6a)\" d=\"M 353.030918 38.47969 \r\nL 354.340471 36.453496 \r\n\" style=\"fill:none;stroke:#ff0000;stroke-width:1.5;\"/>\r\n    <path clip-path=\"url(#p592fdf5e6a)\" d=\"M 354.340471 36.453496 \r\nL 356.034592 34.647174 \r\n\" style=\"fill:none;stroke:#ff0000;stroke-width:1.5;\"/>\r\n    <path clip-path=\"url(#p592fdf5e6a)\" d=\"M 356.034592 34.647174 \r\nL 357.57913 33.812838 \r\n\" style=\"fill:none;stroke:#ff0000;stroke-width:1.5;\"/>\r\n    <path clip-path=\"url(#p592fdf5e6a)\" d=\"M 357.57913 33.812838 \r\nL 359.163101 33.7684 \r\n\" style=\"fill:none;stroke:#ff0000;stroke-width:1.5;\"/>\r\n    <path clip-path=\"url(#p592fdf5e6a)\" d=\"M 359.163101 33.7684 \r\nL 360.78329 34.573016 \r\n\" style=\"fill:none;stroke:#ff0000;stroke-width:1.5;\"/>\r\n    <path clip-path=\"url(#p592fdf5e6a)\" d=\"M 360.78329 34.573016 \r\nL 362.382931 36.20491 \r\n\" style=\"fill:none;stroke:#ff0000;stroke-width:1.5;\"/>\r\n    <path clip-path=\"url(#p592fdf5e6a)\" d=\"M 362.382931 36.20491 \r\nL 363.770989 38.286088 \r\n\" style=\"fill:none;stroke:#ff0000;stroke-width:1.5;\"/>\r\n    <path clip-path=\"url(#p592fdf5e6a)\" d=\"M 363.770989 38.286088 \r\nL 365.125969 40.902322 \r\n\" style=\"fill:none;stroke:#ff0000;stroke-width:1.5;\"/>\r\n    <path clip-path=\"url(#p592fdf5e6a)\" d=\"M 365.125969 40.902322 \r\nL 366.496205 44.12118 \r\n\" style=\"fill:none;stroke:#ff0000;stroke-width:1.5;\"/>\r\n    <path clip-path=\"url(#p592fdf5e6a)\" d=\"M 366.496205 44.12118 \r\nL 367.903217 48.007981 \r\n\" style=\"fill:none;stroke:#ff0000;stroke-width:1.5;\"/>\r\n    <path clip-path=\"url(#p592fdf5e6a)\" d=\"M 367.903217 48.007981 \r\nL 369.334226 52.542788 \r\n\" style=\"fill:none;stroke:#ff0000;stroke-width:1.5;\"/>\r\n    <path clip-path=\"url(#p592fdf5e6a)\" d=\"M 369.334226 52.542788 \r\nL 370.904002 58.160373 \r\n\" style=\"fill:none;stroke:#ff0000;stroke-width:1.5;\"/>\r\n    <path clip-path=\"url(#p592fdf5e6a)\" d=\"M 370.904002 58.160373 \r\nL 372.622023 65.033518 \r\n\" style=\"fill:none;stroke:#ff0000;stroke-width:1.5;\"/>\r\n    <path clip-path=\"url(#p592fdf5e6a)\" d=\"M 372.622023 65.033518 \r\nL 375.351142 77.36695 \r\n\" style=\"fill:none;stroke:#ff0000;stroke-width:1.5;\"/>\r\n    <path clip-path=\"url(#p592fdf5e6a)\" d=\"M 375.351142 77.36695 \r\nL 378.589252 93.926169 \r\n\" style=\"fill:none;stroke:#ff0000;stroke-width:1.5;\"/>\r\n    <path clip-path=\"url(#p592fdf5e6a)\" d=\"M 378.589252 93.926169 \r\nL 385.862319 136.173514 \r\n\" style=\"fill:none;stroke:#ff0000;stroke-width:1.5;\"/>\r\n    <path clip-path=\"url(#p592fdf5e6a)\" d=\"M 385.862319 136.173514 \r\nL 391.701164 171.643523 \r\n\" style=\"fill:none;stroke:#ff0000;stroke-width:1.5;\"/>\r\n    <path clip-path=\"url(#p592fdf5e6a)\" d=\"M 391.701164 171.643523 \r\nL 398.43781 209.435232 \r\n\" style=\"fill:none;stroke:#ff0000;stroke-width:1.5;\"/>\r\n   </g>\r\n   <g id=\"patch_3\">\r\n    <path d=\"M 212.134091 272.718125 \r\nL 212.134091 22.318125 \r\n\" style=\"fill:none;stroke:#000000;stroke-linecap:square;stroke-linejoin:miter;stroke-width:0.8;\"/>\r\n   </g>\r\n   <g id=\"patch_4\">\r\n    <path d=\"M 417.068182 272.718125 \r\nL 417.068182 22.318125 \r\n\" style=\"fill:none;\"/>\r\n   </g>\r\n   <g id=\"patch_5\">\r\n    <path d=\"M 7.2 147.511873 \r\nL 417.068182 147.511873 \r\n\" style=\"fill:none;stroke:#000000;stroke-linecap:square;stroke-linejoin:miter;stroke-width:0.8;\"/>\r\n   </g>\r\n   <g id=\"patch_6\">\r\n    <path d=\"M 7.2 22.318125 \r\nL 417.068182 22.318125 \r\n\" style=\"fill:none;\"/>\r\n   </g>\r\n   <g id=\"text_21\">\r\n    <!-- title -->\r\n    <g transform=\"translate(200.404091 16.318125)scale(0.12 -0.12)\">\r\n     <defs>\r\n      <path d=\"M 18.3125 70.21875 \r\nL 18.3125 54.6875 \r\nL 36.8125 54.6875 \r\nL 36.8125 47.703125 \r\nL 18.3125 47.703125 \r\nL 18.3125 18.015625 \r\nQ 18.3125 11.328125 20.140625 9.421875 \r\nQ 21.96875 7.515625 27.59375 7.515625 \r\nL 36.8125 7.515625 \r\nL 36.8125 0 \r\nL 27.59375 0 \r\nQ 17.1875 0 13.234375 3.875 \r\nQ 9.28125 7.765625 9.28125 18.015625 \r\nL 9.28125 47.703125 \r\nL 2.6875 47.703125 \r\nL 2.6875 54.6875 \r\nL 9.28125 54.6875 \r\nL 9.28125 70.21875 \r\nz\r\n\" id=\"DejaVuSans-116\"/>\r\n      <path d=\"M 9.421875 54.6875 \r\nL 18.40625 54.6875 \r\nL 18.40625 0 \r\nL 9.421875 0 \r\nz\r\nM 9.421875 75.984375 \r\nL 18.40625 75.984375 \r\nL 18.40625 64.59375 \r\nL 9.421875 64.59375 \r\nz\r\n\" id=\"DejaVuSans-105\"/>\r\n     </defs>\r\n     <use xlink:href=\"#DejaVuSans-116\"/>\r\n     <use x=\"39.208984\" xlink:href=\"#DejaVuSans-105\"/>\r\n     <use x=\"66.992188\" xlink:href=\"#DejaVuSans-116\"/>\r\n     <use x=\"106.201172\" xlink:href=\"#DejaVuSans-108\"/>\r\n     <use x=\"133.984375\" xlink:href=\"#DejaVuSans-101\"/>\r\n    </g>\r\n   </g>\r\n  </g>\r\n </g>\r\n <defs>\r\n  <clipPath id=\"p592fdf5e6a\">\r\n   <rect height=\"250.4\" width=\"409.868182\" x=\"7.2\" y=\"22.318125\"/>\r\n  </clipPath>\r\n </defs>\r\n</svg>\r\n",
      "image/png": "[encoded data removed]"
     },
     "metadata": {
      "needs_background": "light"
     }
    }
   ],
   "source": [
    "from sympy.plotting import plot\n",
    "from sympy.abc import x, y\n",
    "p1 = plot(sin(x), line_color=\"red\", title=\"title\", label=\"label\", xlabel=\"xlabel\", ylabel=\"ylabel\", show=False)\n",
    "p2 = plot(cos(x), show=False)\n",
    "# p1.extend(p2)\n",
    "p1.show()"
   ]
  },
  {
   "cell_type": "code",
   "execution_count": null,
   "metadata": {},
   "outputs": [],
   "source": []
  }
 ]
}