{
 "metadata": {
  "language_info": {
   "codemirror_mode": {
    "name": "ipython",
    "version": 3
   },
   "file_extension": ".py",
   "mimetype": "text/x-python",
   "name": "python",
   "nbconvert_exporter": "python",
   "pygments_lexer": "ipython3",
   "version": "3.8.0-final"
  },
  "orig_nbformat": 2,
  "kernelspec": {
   "name": "python3",
   "display_name": "Python 3.8.0 64-bit",
   "metadata": {
    "interpreter": {
     "hash": "004de6046f1b3d314f33fdb43a2dc798b2646e5600efd8df5066c8b63a00ff6d"
    }
   }
  }
 },
 "nbformat": 4,
 "nbformat_minor": 2,
 "cells": [
  {
   "source": [
    "# NLTK WordNet"
   ],
   "cell_type": "markdown",
   "metadata": {}
  },
  {
   "source": [
    "## wordnet安装"
   ],
   "cell_type": "markdown",
   "metadata": {}
  },
  {
   "cell_type": "code",
   "execution_count": 2,
   "metadata": {},
   "outputs": [],
   "source": [
    "import nltk\n",
    "# nltk.download(\"wordnet\")\n",
    "# C:\\Users\\Administrator\\AppData\\Roaming\\nltk_data\\corpora\n",
    "from nltk.corpus import wordnet as wn"
   ]
  },
  {
   "cell_type": "code",
   "execution_count": 4,
   "metadata": {},
   "outputs": [
    {
     "output_type": "execute_result",
     "data": {
      "text/plain": [
       "[Synset('print.v.01'),\n",
       " Synset('publish.v.02'),\n",
       " Synset('publish.v.03'),\n",
       " Synset('published.a.01'),\n",
       " Synset('promulgated.s.01')]"
      ]
     },
     "metadata": {},
     "execution_count": 4
    }
   ],
   "source": [
    "wn.synsets('published')"
   ]
  },
  {
   "source": [
    "## 单词、词集和词条"
   ],
   "cell_type": "markdown",
   "metadata": {}
  },
  {
   "cell_type": "code",
   "execution_count": 7,
   "metadata": {},
   "outputs": [
    {
     "output_type": "execute_result",
     "data": {
      "text/plain": [
       "[Synset('car.n.01'),\n",
       " Synset('car.n.02'),\n",
       " Synset('car.n.03'),\n",
       " Synset('car.n.04'),\n",
       " Synset('cable_car.n.01')]"
      ]
     },
     "metadata": {},
     "execution_count": 7
    }
   ],
   "source": [
    "wn.synsets(\"car\", pos=wn.NOUN)"
   ]
  },
  {
   "cell_type": "code",
   "execution_count": 11,
   "metadata": {},
   "outputs": [
    {
     "output_type": "stream",
     "name": "stdout",
     "text": [
      "a motor vehicle with four wheels; usually propelled by an internal combustion engine\na wheeled vehicle adapted to the rails of railroad\nthe compartment that is suspended from an airship and that carries personnel and the cargo and the power plant\nwhere passengers ride up and down\na conveyance for passengers or freight on a cable railway\n"
     ]
    }
   ],
   "source": [
    "# 打印每个单词的词义\n",
    "for synset in wn.synsets(\"car\"):\n",
    "    print(synset.definition())"
   ]
  },
  {
   "cell_type": "code",
   "execution_count": 18,
   "metadata": {},
   "outputs": [
    {
     "output_type": "execute_result",
     "data": {
      "text/plain": [
       "['dog', 'domestic_dog', 'Canis_familiaris']"
      ]
     },
     "metadata": {},
     "execution_count": 18
    }
   ],
   "source": [
    "wn.synset(\"dog.n.01\").lemma_names()"
   ]
  },
  {
   "cell_type": "code",
   "execution_count": 19,
   "metadata": {},
   "outputs": [
    {
     "output_type": "execute_result",
     "data": {
      "text/plain": [
       "[Lemma('dog.n.01.dog'),\n",
       " Lemma('dog.n.01.domestic_dog'),\n",
       " Lemma('dog.n.01.Canis_familiaris')]"
      ]
     },
     "metadata": {},
     "execution_count": 19
    }
   ],
   "source": [
    "wn.synset(\"dog.n.01\").lemmas()"
   ]
  },
  {
   "source": [
    "## 词集(synset)之间的关系"
   ],
   "cell_type": "markdown",
   "metadata": {}
  },
  {
   "cell_type": "code",
   "execution_count": 28,
   "metadata": {},
   "outputs": [
    {
     "output_type": "stream",
     "name": "stdout",
     "text": [
      "dog:  Synset('dog.n.01')\nhyper:  [Synset('canine.n.02'), Synset('domestic_animal.n.01')]\nhypo:  [Synset('basenji.n.01'), Synset('corgi.n.01'), Synset('cur.n.01'), Synset('dalmatian.n.02'), Synset('great_pyrenees.n.01'), Synset('griffon.n.02'), Synset('hunting_dog.n.01'), Synset('lapdog.n.01'), Synset('leonberg.n.01'), Synset('mexican_hairless.n.01'), Synset('newfoundland.n.01'), Synset('pooch.n.01'), Synset('poodle.n.01'), Synset('pug.n.01'), Synset('puppy.n.01'), Synset('spitz.n.01'), Synset('toy_dog.n.01'), Synset('working_dog.n.01')]\n"
     ]
    }
   ],
   "source": [
    "dog = wn.synsets(\"dog\")[0]\n",
    "print(\"dog: \", dog)\n",
    "\n",
    "# 上位词与下位词\n",
    "hyper = dog.hypernyms()\n",
    "hypo = dog.hyponyms()\n",
    "print(\"hyper: \", hyper)\n",
    "print(\"hypo: \", hypo)"
   ]
  },
  {
   "cell_type": "code",
   "execution_count": 40,
   "metadata": {},
   "outputs": [
    {
     "output_type": "stream",
     "name": "stdout",
     "text": [
      "0.2\n0.05555555555555555\n"
     ]
    }
   ],
   "source": [
    "dog = wn.synsets(\"dog\")[0]\n",
    "cat = wn.synsets(\"cat\")[0]\n",
    "kat = wn.synsets(\"cat\")[3]\n",
    "\n",
    "# 相似度\n",
    "sim1 = wn.path_similarity(dog, cat)\n",
    "sim2 = wn.path_similarity(cat, kat)\n",
    "print(sim1)\n",
    "print(sim2)"
   ]
  },
  {
   "cell_type": "code",
   "execution_count": 42,
   "metadata": {},
   "outputs": [
    {
     "output_type": "execute_result",
     "data": {
      "text/plain": [
       "[Synset('carnivore.n.01')]"
      ]
     },
     "metadata": {},
     "execution_count": 42
    }
   ],
   "source": [
    "# 最低公共祖先\n",
    "dog.lowest_common_hypernyms(cat)"
   ]
  },
  {
   "cell_type": "code",
   "execution_count": 51,
   "metadata": {},
   "outputs": [
    {
     "output_type": "execute_result",
     "data": {
      "text/plain": [
       "[Synset('step.v.01')]"
      ]
     },
     "metadata": {},
     "execution_count": 51
    }
   ],
   "source": [
    "# 动词蕴含关系\n",
    "walk = wn.synsets(\"walk\", pos=wn.VERB)[0]\n",
    "walk.entailments()"
   ]
  },
  {
   "cell_type": "code",
   "execution_count": 60,
   "metadata": {},
   "outputs": [
    {
     "output_type": "stream",
     "name": "stdout",
     "text": [
      "Synset('glorious.a.01')\n[Synset('bright.s.06'), Synset('celebrated.s.02'), Synset('divine.s.06'), Synset('empyreal.s.02'), Synset('illustrious.s.02'), Synset('incandescent.s.02'), Synset('lustrous.s.02')]\n"
     ]
    }
   ],
   "source": [
    "# 形容词和副词的近义词\n",
    "glorious = wn.synsets(\"glorious\")[0]\n",
    "print(glorious)\n",
    "\n",
    "print(glorious.similar_tos())"
   ]
  },
  {
   "cell_type": "code",
   "execution_count": 77,
   "metadata": {},
   "outputs": [
    {
     "output_type": "stream",
     "name": "stdout",
     "text": [
      "Synset('tree.n.01')\n[Synset('burl.n.02'), Synset('crown.n.07'), Synset('limb.n.02'), Synset('stump.n.01'), Synset('trunk.n.01')]\n[Synset('heartwood.n.01'), Synset('sapwood.n.01')]\n[Synset('forest.n.01')]\nSynset('burl.n.02')\n[Synset('tree.n.01')]\nSynset('heartwood.n.01')\n[Synset('tree.n.01')]\n"
     ]
    }
   ],
   "source": [
    "# 其他\n",
    "tree = wn.synsets(\"tree\")[0]\n",
    "print(tree)\n",
    "\n",
    "# 条目-部件\n",
    "print(tree.part_meronyms())\n",
    "# 条目-实质\n",
    "print(tree.substance_meronyms())\n",
    "# 词的集合\n",
    "print(tree.member_holonyms())\n",
    "\n",
    "# 整体\n",
    "burl = tree.part_meronyms()[0]\n",
    "print(burl)\n",
    "print(burl.part_holonyms())\n",
    "heartwood = tree.substance_meronyms()[0]\n",
    "print(heartwood)\n",
    "print(heartwood.substance_holonyms())"
   ]
  },
  {
   "source": [
    "## 词条(lemma)之间的关系"
   ],
   "cell_type": "markdown",
   "metadata": {}
  },
  {
   "cell_type": "code",
   "execution_count": 88,
   "metadata": {},
   "outputs": [
    {
     "output_type": "stream",
     "name": "stdout",
     "text": [
      "Synset('hot.a.01')\n[Lemma('cold.a.01.cold')]\n"
     ]
    }
   ],
   "source": [
    "hot = wn.synsets(\"hot\")[0]\n",
    "print(hot)\n",
    "\n",
    "# print(wn.lemma(\"hot.a.01.hot\").synonyms())\n",
    "# 反义词\n",
    "print(wn.lemma(\"hot.a.01.hot\").antonyms())"
   ]
  },
  {
   "cell_type": "code",
   "execution_count": null,
   "metadata": {},
   "outputs": [],
   "source": []
  }
 ]
}