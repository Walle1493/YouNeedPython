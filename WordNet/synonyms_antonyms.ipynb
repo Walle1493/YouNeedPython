{
 "metadata": {
  "language_info": {
   "codemirror_mode": {
    "name": "ipython",
    "version": 3
   },
   "file_extension": ".py",
   "mimetype": "text/x-python",
   "name": "python",
   "nbconvert_exporter": "python",
   "pygments_lexer": "ipython3",
   "version": "3.8.0-final"
  },
  "orig_nbformat": 2,
  "kernelspec": {
   "name": "python3",
   "display_name": "Python 3.8.0 64-bit",
   "metadata": {
    "interpreter": {
     "hash": "004de6046f1b3d314f33fdb43a2dc798b2646e5600efd8df5066c8b63a00ff6d"
    }
   }
  }
 },
 "nbformat": 4,
 "nbformat_minor": 2,
 "cells": [
  {
   "source": [
    "# Synonyms and Antonyms"
   ],
   "cell_type": "markdown",
   "metadata": {}
  },
  {
   "cell_type": "code",
   "execution_count": 2,
   "metadata": {},
   "outputs": [],
   "source": [
    "from nltk.corpus import wordnet as wn"
   ]
  },
  {
   "cell_type": "code",
   "execution_count": 36,
   "metadata": {},
   "outputs": [
    {
     "output_type": "stream",
     "name": "stdout",
     "text": [
      "[Synset('beautiful.a.01'), Synset('beautiful.s.02')]\nSynset('beautiful.a.01')\n"
     ]
    }
   ],
   "source": [
    "word = input()\n",
    "\n",
    "# 词集\n",
    "words = wn.synsets(word)\n",
    "print(words)\n",
    "\n",
    "# 第一个词\n",
    "word = words[0]\n",
    "print(word)"
   ]
  },
  {
   "cell_type": "code",
   "execution_count": 37,
   "metadata": {},
   "outputs": [
    {
     "output_type": "stream",
     "name": "stdout",
     "text": [
      "[Lemma('beautiful.a.01.beautiful')]\nLemma('beautiful.a.01.beautiful')\nbeautiful\n"
     ]
    }
   ],
   "source": [
    "# 同义词\n",
    "word_lemmas = word.lemmas()\n",
    "print(word_lemmas)\n",
    "\n",
    "word_lemma = word_lemmas[0]\n",
    "print(word_lemma)\n",
    "\n",
    "print(word_lemma.name())"
   ]
  },
  {
   "cell_type": "code",
   "execution_count": 40,
   "metadata": {},
   "outputs": [
    {
     "output_type": "stream",
     "name": "stdout",
     "text": [
      "[Lemma('ugly.a.01.ugly')]\nLemma('ugly.a.01.ugly')\nugly\n"
     ]
    }
   ],
   "source": [
    "# 反义词\n",
    "word_antonyms_list = word_lemma.antonyms()\n",
    "print(word_antonyms_list)\n",
    "\n",
    "word_antonyms = word_antonyms_list[0]\n",
    "print(word_antonyms)\n",
    "\n",
    "print(word_antonyms.name())"
   ]
  },
  {
   "source": [
    "## 函数封装实现"
   ],
   "cell_type": "markdown",
   "metadata": {}
  },
  {
   "cell_type": "code",
   "execution_count": 81,
   "metadata": {},
   "outputs": [],
   "source": [
    "from nltk.corpus import wordnet as wn\n",
    "\n",
    "def sub_words(word):\n",
    "    synonyms = set()\n",
    "    antonyms = set()\n",
    "\n",
    "    # 词集synsets\n",
    "    for synset in wn.synsets(word):\n",
    "        # 词条lemmas\n",
    "        for lemma in synset.lemmas():\n",
    "            synonyms.add(lemma.name())\n",
    "            # 反义词antonyms\n",
    "            for antonym in lemma.antonyms():\n",
    "                antonyms.add(antonym.name())\n",
    "    \n",
    "    if word in synonyms:\n",
    "        synonyms.remove(word)\n",
    "\n",
    "    return list(synonyms), list(antonyms)"
   ]
  },
  {
   "cell_type": "code",
   "execution_count": 85,
   "metadata": {},
   "outputs": [
    {
     "output_type": "stream",
     "name": "stdout",
     "text": [
      "word:  interesting\nsynonyms:  ['worry', 'matter_to', 'occupy', 'concern', 'interest']\nantonyms:  ['bore', 'uninteresting']\n"
     ]
    }
   ],
   "source": [
    "word = input()\n",
    "synonyms, antonyms = sub_words(word)\n",
    "print(\"word: \", word)\n",
    "print(\"synonyms: \", synonyms)\n",
    "print(\"antonyms: \", antonyms)"
   ]
  },
  {
   "cell_type": "code",
   "execution_count": null,
   "metadata": {},
   "outputs": [],
   "source": []
  }
 ]
}